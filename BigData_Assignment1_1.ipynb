{
 "cells": [
  {
   "cell_type": "markdown",
   "metadata": {},
   "source": [
    "## Assignmnet 1-"
   ]
  },
  {
   "cell_type": "markdown",
   "metadata": {},
   "source": [
    "## King County House Price Prediction"
   ]
  },
  {
   "cell_type": "markdown",
   "metadata": {},
   "source": [
    "####  Abstract-\n",
    "              The purpose of this analysis is to predict the efficient house pricing for real estate customers.This dataset contains house sale prices for King County, seattle. It includes homes sold between May 2014 and May 2015. It has about 50 different columns which is correlated with the Price of the house, each attribute changes the price of the house. We used different algorithms to predict the accurate price of the house like Random Forest Classification, XGBosst classification,Logistic Regression and few others.Best model out of them is XGBoost with an ROC Score of 0.967. So we observe that the boosting algorithm works best for this dataset over bagging algorithms.\n",
    "             "
   ]
  },
  {
   "cell_type": "code",
   "execution_count": 68,
   "metadata": {},
   "outputs": [],
   "source": [
    "import pandas as pd\n",
    "import seaborn as sns\n",
    "import matplotlib.pyplot as plt\n",
    "import numpy as np\n",
    "from pandas import Series\n",
    "%matplotlib inline\n"
   ]
  },
  {
   "cell_type": "code",
   "execution_count": 69,
   "metadata": {},
   "outputs": [],
   "source": [
    "features = pd.read_csv(\"C:\\\\Users\\\\Spurthy\\\\Documents\\\\king_county_cleansed.csv.txt\")\n"
   ]
  },
  {
   "cell_type": "code",
   "execution_count": 70,
   "metadata": {},
   "outputs": [
    {
     "data": {
      "text/html": [
       "<div>\n",
       "<style scoped>\n",
       "    .dataframe tbody tr th:only-of-type {\n",
       "        vertical-align: middle;\n",
       "    }\n",
       "\n",
       "    .dataframe tbody tr th {\n",
       "        vertical-align: top;\n",
       "    }\n",
       "\n",
       "    .dataframe thead th {\n",
       "        text-align: right;\n",
       "    }\n",
       "</style>\n",
       "<table border=\"1\" class=\"dataframe\">\n",
       "  <thead>\n",
       "    <tr style=\"text-align: right;\">\n",
       "      <th></th>\n",
       "      <th>index</th>\n",
       "      <th>price</th>\n",
       "      <th>bedrooms</th>\n",
       "      <th>bathrooms</th>\n",
       "      <th>sqft_living</th>\n",
       "      <th>sqft_lot</th>\n",
       "      <th>waterfront</th>\n",
       "      <th>sqft_above</th>\n",
       "      <th>sqft_basement</th>\n",
       "      <th>yr_built</th>\n",
       "      <th>...</th>\n",
       "      <th>grade#10</th>\n",
       "      <th>grade#11</th>\n",
       "      <th>grade#12</th>\n",
       "      <th>grade#13</th>\n",
       "      <th>zipcode#98004</th>\n",
       "      <th>zipcode#98102</th>\n",
       "      <th>zipcode#98109</th>\n",
       "      <th>zipcode#98112</th>\n",
       "      <th>zipcode#98039</th>\n",
       "      <th>zipcode#98040</th>\n",
       "    </tr>\n",
       "  </thead>\n",
       "  <tbody>\n",
       "    <tr>\n",
       "      <th>0</th>\n",
       "      <td>16768</td>\n",
       "      <td>437500</td>\n",
       "      <td>3</td>\n",
       "      <td>2.25</td>\n",
       "      <td>1970</td>\n",
       "      <td>35100</td>\n",
       "      <td>0</td>\n",
       "      <td>1970</td>\n",
       "      <td>0</td>\n",
       "      <td>1977</td>\n",
       "      <td>...</td>\n",
       "      <td>0</td>\n",
       "      <td>0</td>\n",
       "      <td>0</td>\n",
       "      <td>0</td>\n",
       "      <td>0</td>\n",
       "      <td>0</td>\n",
       "      <td>0</td>\n",
       "      <td>0</td>\n",
       "      <td>0</td>\n",
       "      <td>0</td>\n",
       "    </tr>\n",
       "    <tr>\n",
       "      <th>1</th>\n",
       "      <td>9596</td>\n",
       "      <td>790000</td>\n",
       "      <td>3</td>\n",
       "      <td>2.50</td>\n",
       "      <td>2600</td>\n",
       "      <td>4750</td>\n",
       "      <td>0</td>\n",
       "      <td>1700</td>\n",
       "      <td>900</td>\n",
       "      <td>1951</td>\n",
       "      <td>...</td>\n",
       "      <td>0</td>\n",
       "      <td>0</td>\n",
       "      <td>0</td>\n",
       "      <td>0</td>\n",
       "      <td>0</td>\n",
       "      <td>0</td>\n",
       "      <td>0</td>\n",
       "      <td>0</td>\n",
       "      <td>0</td>\n",
       "      <td>0</td>\n",
       "    </tr>\n",
       "    <tr>\n",
       "      <th>2</th>\n",
       "      <td>9587</td>\n",
       "      <td>675000</td>\n",
       "      <td>5</td>\n",
       "      <td>2.50</td>\n",
       "      <td>2820</td>\n",
       "      <td>67518</td>\n",
       "      <td>0</td>\n",
       "      <td>2820</td>\n",
       "      <td>0</td>\n",
       "      <td>1979</td>\n",
       "      <td>...</td>\n",
       "      <td>0</td>\n",
       "      <td>0</td>\n",
       "      <td>0</td>\n",
       "      <td>0</td>\n",
       "      <td>0</td>\n",
       "      <td>0</td>\n",
       "      <td>0</td>\n",
       "      <td>0</td>\n",
       "      <td>0</td>\n",
       "      <td>0</td>\n",
       "    </tr>\n",
       "    <tr>\n",
       "      <th>3</th>\n",
       "      <td>20602</td>\n",
       "      <td>555000</td>\n",
       "      <td>4</td>\n",
       "      <td>2.50</td>\n",
       "      <td>3310</td>\n",
       "      <td>6500</td>\n",
       "      <td>0</td>\n",
       "      <td>3310</td>\n",
       "      <td>0</td>\n",
       "      <td>2012</td>\n",
       "      <td>...</td>\n",
       "      <td>0</td>\n",
       "      <td>0</td>\n",
       "      <td>0</td>\n",
       "      <td>0</td>\n",
       "      <td>0</td>\n",
       "      <td>0</td>\n",
       "      <td>0</td>\n",
       "      <td>0</td>\n",
       "      <td>0</td>\n",
       "      <td>0</td>\n",
       "    </tr>\n",
       "    <tr>\n",
       "      <th>4</th>\n",
       "      <td>11577</td>\n",
       "      <td>440000</td>\n",
       "      <td>4</td>\n",
       "      <td>2.25</td>\n",
       "      <td>2160</td>\n",
       "      <td>8119</td>\n",
       "      <td>0</td>\n",
       "      <td>1080</td>\n",
       "      <td>1080</td>\n",
       "      <td>1966</td>\n",
       "      <td>...</td>\n",
       "      <td>0</td>\n",
       "      <td>0</td>\n",
       "      <td>0</td>\n",
       "      <td>0</td>\n",
       "      <td>0</td>\n",
       "      <td>0</td>\n",
       "      <td>0</td>\n",
       "      <td>0</td>\n",
       "      <td>0</td>\n",
       "      <td>0</td>\n",
       "    </tr>\n",
       "  </tbody>\n",
       "</table>\n",
       "<p>5 rows × 51 columns</p>\n",
       "</div>"
      ],
      "text/plain": [
       "   index   price  bedrooms  bathrooms  sqft_living  sqft_lot  waterfront  \\\n",
       "0  16768  437500         3       2.25         1970     35100           0   \n",
       "1   9596  790000         3       2.50         2600      4750           0   \n",
       "2   9587  675000         5       2.50         2820     67518           0   \n",
       "3  20602  555000         4       2.50         3310      6500           0   \n",
       "4  11577  440000         4       2.25         2160      8119           0   \n",
       "\n",
       "   sqft_above  sqft_basement  yr_built      ...        grade#10  grade#11  \\\n",
       "0        1970              0      1977      ...               0         0   \n",
       "1        1700            900      1951      ...               0         0   \n",
       "2        2820              0      1979      ...               0         0   \n",
       "3        3310              0      2012      ...               0         0   \n",
       "4        1080           1080      1966      ...               0         0   \n",
       "\n",
       "   grade#12  grade#13  zipcode#98004  zipcode#98102  zipcode#98109  \\\n",
       "0         0         0              0              0              0   \n",
       "1         0         0              0              0              0   \n",
       "2         0         0              0              0              0   \n",
       "3         0         0              0              0              0   \n",
       "4         0         0              0              0              0   \n",
       "\n",
       "   zipcode#98112  zipcode#98039  zipcode#98040  \n",
       "0              0              0              0  \n",
       "1              0              0              0  \n",
       "2              0              0              0  \n",
       "3              0              0              0  \n",
       "4              0              0              0  \n",
       "\n",
       "[5 rows x 51 columns]"
      ]
     },
     "execution_count": 70,
     "metadata": {},
     "output_type": "execute_result"
    }
   ],
   "source": [
    "features.head(5)"
   ]
  },
  {
   "cell_type": "code",
   "execution_count": 71,
   "metadata": {},
   "outputs": [
    {
     "data": {
      "text/html": [
       "<div>\n",
       "<style scoped>\n",
       "    .dataframe tbody tr th:only-of-type {\n",
       "        vertical-align: middle;\n",
       "    }\n",
       "\n",
       "    .dataframe tbody tr th {\n",
       "        vertical-align: top;\n",
       "    }\n",
       "\n",
       "    .dataframe thead th {\n",
       "        text-align: right;\n",
       "    }\n",
       "</style>\n",
       "<table border=\"1\" class=\"dataframe\">\n",
       "  <thead>\n",
       "    <tr style=\"text-align: right;\">\n",
       "      <th></th>\n",
       "      <th>index</th>\n",
       "      <th>price</th>\n",
       "      <th>bedrooms</th>\n",
       "      <th>bathrooms</th>\n",
       "      <th>sqft_living</th>\n",
       "      <th>sqft_lot</th>\n",
       "      <th>waterfront</th>\n",
       "      <th>sqft_above</th>\n",
       "      <th>sqft_basement</th>\n",
       "      <th>yr_built</th>\n",
       "      <th>...</th>\n",
       "      <th>grade#10</th>\n",
       "      <th>grade#11</th>\n",
       "      <th>grade#12</th>\n",
       "      <th>grade#13</th>\n",
       "      <th>zipcode#98004</th>\n",
       "      <th>zipcode#98102</th>\n",
       "      <th>zipcode#98109</th>\n",
       "      <th>zipcode#98112</th>\n",
       "      <th>zipcode#98039</th>\n",
       "      <th>zipcode#98040</th>\n",
       "    </tr>\n",
       "  </thead>\n",
       "  <tbody>\n",
       "    <tr>\n",
       "      <th>count</th>\n",
       "      <td>21613.00000</td>\n",
       "      <td>2.161300e+04</td>\n",
       "      <td>21613.000000</td>\n",
       "      <td>21613.000000</td>\n",
       "      <td>21613.000000</td>\n",
       "      <td>2.161300e+04</td>\n",
       "      <td>21613.000000</td>\n",
       "      <td>21613.000000</td>\n",
       "      <td>21613.000000</td>\n",
       "      <td>21613.000000</td>\n",
       "      <td>...</td>\n",
       "      <td>21613.000000</td>\n",
       "      <td>21613.000000</td>\n",
       "      <td>21613.000000</td>\n",
       "      <td>21613.000000</td>\n",
       "      <td>21613.000000</td>\n",
       "      <td>21613.000000</td>\n",
       "      <td>21613.000000</td>\n",
       "      <td>21613.000000</td>\n",
       "      <td>21613.000000</td>\n",
       "      <td>21613.000000</td>\n",
       "    </tr>\n",
       "    <tr>\n",
       "      <th>mean</th>\n",
       "      <td>10806.00000</td>\n",
       "      <td>5.400881e+05</td>\n",
       "      <td>3.370842</td>\n",
       "      <td>2.114757</td>\n",
       "      <td>2079.899736</td>\n",
       "      <td>1.510697e+04</td>\n",
       "      <td>0.007542</td>\n",
       "      <td>1788.390691</td>\n",
       "      <td>291.509045</td>\n",
       "      <td>1971.005136</td>\n",
       "      <td>...</td>\n",
       "      <td>0.052468</td>\n",
       "      <td>0.018461</td>\n",
       "      <td>0.004164</td>\n",
       "      <td>0.000601</td>\n",
       "      <td>0.014667</td>\n",
       "      <td>0.004858</td>\n",
       "      <td>0.005043</td>\n",
       "      <td>0.012446</td>\n",
       "      <td>0.002313</td>\n",
       "      <td>0.013048</td>\n",
       "    </tr>\n",
       "    <tr>\n",
       "      <th>std</th>\n",
       "      <td>6239.28002</td>\n",
       "      <td>3.671272e+05</td>\n",
       "      <td>0.930062</td>\n",
       "      <td>0.770163</td>\n",
       "      <td>918.440897</td>\n",
       "      <td>4.142051e+04</td>\n",
       "      <td>0.086517</td>\n",
       "      <td>828.090978</td>\n",
       "      <td>442.575043</td>\n",
       "      <td>29.373411</td>\n",
       "      <td>...</td>\n",
       "      <td>0.222975</td>\n",
       "      <td>0.134615</td>\n",
       "      <td>0.064397</td>\n",
       "      <td>0.024518</td>\n",
       "      <td>0.120219</td>\n",
       "      <td>0.069533</td>\n",
       "      <td>0.070838</td>\n",
       "      <td>0.110869</td>\n",
       "      <td>0.048043</td>\n",
       "      <td>0.113482</td>\n",
       "    </tr>\n",
       "    <tr>\n",
       "      <th>min</th>\n",
       "      <td>0.00000</td>\n",
       "      <td>7.500000e+04</td>\n",
       "      <td>0.000000</td>\n",
       "      <td>0.000000</td>\n",
       "      <td>290.000000</td>\n",
       "      <td>5.200000e+02</td>\n",
       "      <td>0.000000</td>\n",
       "      <td>290.000000</td>\n",
       "      <td>0.000000</td>\n",
       "      <td>1900.000000</td>\n",
       "      <td>...</td>\n",
       "      <td>0.000000</td>\n",
       "      <td>0.000000</td>\n",
       "      <td>0.000000</td>\n",
       "      <td>0.000000</td>\n",
       "      <td>0.000000</td>\n",
       "      <td>0.000000</td>\n",
       "      <td>0.000000</td>\n",
       "      <td>0.000000</td>\n",
       "      <td>0.000000</td>\n",
       "      <td>0.000000</td>\n",
       "    </tr>\n",
       "    <tr>\n",
       "      <th>25%</th>\n",
       "      <td>5403.00000</td>\n",
       "      <td>3.219500e+05</td>\n",
       "      <td>3.000000</td>\n",
       "      <td>1.750000</td>\n",
       "      <td>1427.000000</td>\n",
       "      <td>5.040000e+03</td>\n",
       "      <td>0.000000</td>\n",
       "      <td>1190.000000</td>\n",
       "      <td>0.000000</td>\n",
       "      <td>1951.000000</td>\n",
       "      <td>...</td>\n",
       "      <td>0.000000</td>\n",
       "      <td>0.000000</td>\n",
       "      <td>0.000000</td>\n",
       "      <td>0.000000</td>\n",
       "      <td>0.000000</td>\n",
       "      <td>0.000000</td>\n",
       "      <td>0.000000</td>\n",
       "      <td>0.000000</td>\n",
       "      <td>0.000000</td>\n",
       "      <td>0.000000</td>\n",
       "    </tr>\n",
       "    <tr>\n",
       "      <th>50%</th>\n",
       "      <td>10806.00000</td>\n",
       "      <td>4.500000e+05</td>\n",
       "      <td>3.000000</td>\n",
       "      <td>2.250000</td>\n",
       "      <td>1910.000000</td>\n",
       "      <td>7.618000e+03</td>\n",
       "      <td>0.000000</td>\n",
       "      <td>1560.000000</td>\n",
       "      <td>0.000000</td>\n",
       "      <td>1975.000000</td>\n",
       "      <td>...</td>\n",
       "      <td>0.000000</td>\n",
       "      <td>0.000000</td>\n",
       "      <td>0.000000</td>\n",
       "      <td>0.000000</td>\n",
       "      <td>0.000000</td>\n",
       "      <td>0.000000</td>\n",
       "      <td>0.000000</td>\n",
       "      <td>0.000000</td>\n",
       "      <td>0.000000</td>\n",
       "      <td>0.000000</td>\n",
       "    </tr>\n",
       "    <tr>\n",
       "      <th>75%</th>\n",
       "      <td>16209.00000</td>\n",
       "      <td>6.450000e+05</td>\n",
       "      <td>4.000000</td>\n",
       "      <td>2.500000</td>\n",
       "      <td>2550.000000</td>\n",
       "      <td>1.068800e+04</td>\n",
       "      <td>0.000000</td>\n",
       "      <td>2210.000000</td>\n",
       "      <td>560.000000</td>\n",
       "      <td>1997.000000</td>\n",
       "      <td>...</td>\n",
       "      <td>0.000000</td>\n",
       "      <td>0.000000</td>\n",
       "      <td>0.000000</td>\n",
       "      <td>0.000000</td>\n",
       "      <td>0.000000</td>\n",
       "      <td>0.000000</td>\n",
       "      <td>0.000000</td>\n",
       "      <td>0.000000</td>\n",
       "      <td>0.000000</td>\n",
       "      <td>0.000000</td>\n",
       "    </tr>\n",
       "    <tr>\n",
       "      <th>max</th>\n",
       "      <td>21612.00000</td>\n",
       "      <td>7.700000e+06</td>\n",
       "      <td>33.000000</td>\n",
       "      <td>8.000000</td>\n",
       "      <td>13540.000000</td>\n",
       "      <td>1.651359e+06</td>\n",
       "      <td>1.000000</td>\n",
       "      <td>9410.000000</td>\n",
       "      <td>4820.000000</td>\n",
       "      <td>2015.000000</td>\n",
       "      <td>...</td>\n",
       "      <td>1.000000</td>\n",
       "      <td>1.000000</td>\n",
       "      <td>1.000000</td>\n",
       "      <td>1.000000</td>\n",
       "      <td>1.000000</td>\n",
       "      <td>1.000000</td>\n",
       "      <td>1.000000</td>\n",
       "      <td>1.000000</td>\n",
       "      <td>1.000000</td>\n",
       "      <td>1.000000</td>\n",
       "    </tr>\n",
       "  </tbody>\n",
       "</table>\n",
       "<p>8 rows × 51 columns</p>\n",
       "</div>"
      ],
      "text/plain": [
       "             index         price      bedrooms     bathrooms   sqft_living  \\\n",
       "count  21613.00000  2.161300e+04  21613.000000  21613.000000  21613.000000   \n",
       "mean   10806.00000  5.400881e+05      3.370842      2.114757   2079.899736   \n",
       "std     6239.28002  3.671272e+05      0.930062      0.770163    918.440897   \n",
       "min        0.00000  7.500000e+04      0.000000      0.000000    290.000000   \n",
       "25%     5403.00000  3.219500e+05      3.000000      1.750000   1427.000000   \n",
       "50%    10806.00000  4.500000e+05      3.000000      2.250000   1910.000000   \n",
       "75%    16209.00000  6.450000e+05      4.000000      2.500000   2550.000000   \n",
       "max    21612.00000  7.700000e+06     33.000000      8.000000  13540.000000   \n",
       "\n",
       "           sqft_lot    waterfront    sqft_above  sqft_basement      yr_built  \\\n",
       "count  2.161300e+04  21613.000000  21613.000000   21613.000000  21613.000000   \n",
       "mean   1.510697e+04      0.007542   1788.390691     291.509045   1971.005136   \n",
       "std    4.142051e+04      0.086517    828.090978     442.575043     29.373411   \n",
       "min    5.200000e+02      0.000000    290.000000       0.000000   1900.000000   \n",
       "25%    5.040000e+03      0.000000   1190.000000       0.000000   1951.000000   \n",
       "50%    7.618000e+03      0.000000   1560.000000       0.000000   1975.000000   \n",
       "75%    1.068800e+04      0.000000   2210.000000     560.000000   1997.000000   \n",
       "max    1.651359e+06      1.000000   9410.000000    4820.000000   2015.000000   \n",
       "\n",
       "           ...            grade#10      grade#11      grade#12      grade#13  \\\n",
       "count      ...        21613.000000  21613.000000  21613.000000  21613.000000   \n",
       "mean       ...            0.052468      0.018461      0.004164      0.000601   \n",
       "std        ...            0.222975      0.134615      0.064397      0.024518   \n",
       "min        ...            0.000000      0.000000      0.000000      0.000000   \n",
       "25%        ...            0.000000      0.000000      0.000000      0.000000   \n",
       "50%        ...            0.000000      0.000000      0.000000      0.000000   \n",
       "75%        ...            0.000000      0.000000      0.000000      0.000000   \n",
       "max        ...            1.000000      1.000000      1.000000      1.000000   \n",
       "\n",
       "       zipcode#98004  zipcode#98102  zipcode#98109  zipcode#98112  \\\n",
       "count   21613.000000   21613.000000   21613.000000   21613.000000   \n",
       "mean        0.014667       0.004858       0.005043       0.012446   \n",
       "std         0.120219       0.069533       0.070838       0.110869   \n",
       "min         0.000000       0.000000       0.000000       0.000000   \n",
       "25%         0.000000       0.000000       0.000000       0.000000   \n",
       "50%         0.000000       0.000000       0.000000       0.000000   \n",
       "75%         0.000000       0.000000       0.000000       0.000000   \n",
       "max         1.000000       1.000000       1.000000       1.000000   \n",
       "\n",
       "       zipcode#98039  zipcode#98040  \n",
       "count   21613.000000   21613.000000  \n",
       "mean        0.002313       0.013048  \n",
       "std         0.048043       0.113482  \n",
       "min         0.000000       0.000000  \n",
       "25%         0.000000       0.000000  \n",
       "50%         0.000000       0.000000  \n",
       "75%         0.000000       0.000000  \n",
       "max         1.000000       1.000000  \n",
       "\n",
       "[8 rows x 51 columns]"
      ]
     },
     "execution_count": 71,
     "metadata": {},
     "output_type": "execute_result"
    }
   ],
   "source": [
    "features.describe()"
   ]
  },
  {
   "cell_type": "code",
   "execution_count": 72,
   "metadata": {},
   "outputs": [
    {
     "data": {
      "text/plain": [
       "<matplotlib.axes._subplots.AxesSubplot at 0x15c9d9e84a8>"
      ]
     },
     "execution_count": 72,
     "metadata": {},
     "output_type": "execute_result"
    },
    {
     "data": {
      "image/png": "[encoded data removed]",
      "text/plain": [
       "<Figure size 1440x1440 with 2 Axes>"
      ]
     },
     "metadata": {
      "needs_background": "light"
     },
     "output_type": "display_data"
    }
   ],
   "source": [
    "corr = features.corr()\n",
    "\n",
    "mask = np.zeros_like(corr, dtype=np.bool)\n",
    "mask[np.triu_indices_from(mask)] = True\n",
    "\n",
    "# Set up the matplotlib figure\n",
    "f, ax = plt.subplots(figsize=(20, 20))\n",
    "\n",
    "# Generate a custom diverging colormap\n",
    "cmap = sns.diverging_palette(190, 10, as_cmap=True)\n",
    "\n",
    "# Draw the heatmap with the mask and correct aspect ratio\n",
    "sns.heatmap(corr, mask=mask, cmap=cmap, vmax=.3, center=0,\n",
    "            square=True, linewidths=.5, cbar_kws={\"shrink\": .5})"
   ]
  },
  {
   "cell_type": "code",
   "execution_count": 73,
   "metadata": {},
   "outputs": [
    {
     "data": {
      "text/plain": [
       "<matplotlib.image.AxesImage at 0x15cbf204860>"
      ]
     },
     "execution_count": 73,
     "metadata": {},
     "output_type": "execute_result"
    },
    {
     "data": {
      "image/png": "[encoded data removed]",
      "text/plain": [
       "<Figure size 288x288 with 1 Axes>"
      ]
     },
     "metadata": {
      "needs_background": "light"
     },
     "output_type": "display_data"
    }
   ],
   "source": [
    "\n",
    "plt.matshow(features.corr())"
   ]
  },
  {
   "cell_type": "code",
   "execution_count": 74,
   "metadata": {},
   "outputs": [
    {
     "name": "stdout",
     "output_type": "stream",
     "text": [
      "450000.0\n"
     ]
    }
   ],
   "source": [
    "\n",
    "median_price = features.loc[:,\"price\"].median()\n",
    "print(median_price)"
   ]
  },
  {
   "cell_type": "code",
   "execution_count": 75,
   "metadata": {},
   "outputs": [],
   "source": [
    "features['price_cat'] = features['price'].apply(lambda x: 1 if x > median_price else -1)"
   ]
  },
  {
   "cell_type": "markdown",
   "metadata": {},
   "source": [
    "Added another col \"price_cat\" where it is indicated by -1 when x < median and 1 when x > median\n"
   ]
  },
  {
   "cell_type": "code",
   "execution_count": 76,
   "metadata": {},
   "outputs": [
    {
     "data": {
      "text/html": [
       "<div>\n",
       "<style scoped>\n",
       "    .dataframe tbody tr th:only-of-type {\n",
       "        vertical-align: middle;\n",
       "    }\n",
       "\n",
       "    .dataframe tbody tr th {\n",
       "        vertical-align: top;\n",
       "    }\n",
       "\n",
       "    .dataframe thead th {\n",
       "        text-align: right;\n",
       "    }\n",
       "</style>\n",
       "<table border=\"1\" class=\"dataframe\">\n",
       "  <thead>\n",
       "    <tr style=\"text-align: right;\">\n",
       "      <th></th>\n",
       "      <th>price</th>\n",
       "      <th>price_cat</th>\n",
       "    </tr>\n",
       "  </thead>\n",
       "  <tbody>\n",
       "    <tr>\n",
       "      <th>0</th>\n",
       "      <td>437500</td>\n",
       "      <td>-1</td>\n",
       "    </tr>\n",
       "    <tr>\n",
       "      <th>1</th>\n",
       "      <td>790000</td>\n",
       "      <td>1</td>\n",
       "    </tr>\n",
       "    <tr>\n",
       "      <th>2</th>\n",
       "      <td>675000</td>\n",
       "      <td>1</td>\n",
       "    </tr>\n",
       "    <tr>\n",
       "      <th>3</th>\n",
       "      <td>555000</td>\n",
       "      <td>1</td>\n",
       "    </tr>\n",
       "    <tr>\n",
       "      <th>4</th>\n",
       "      <td>440000</td>\n",
       "      <td>-1</td>\n",
       "    </tr>\n",
       "    <tr>\n",
       "      <th>5</th>\n",
       "      <td>295000</td>\n",
       "      <td>-1</td>\n",
       "    </tr>\n",
       "    <tr>\n",
       "      <th>6</th>\n",
       "      <td>470000</td>\n",
       "      <td>1</td>\n",
       "    </tr>\n",
       "    <tr>\n",
       "      <th>7</th>\n",
       "      <td>550000</td>\n",
       "      <td>1</td>\n",
       "    </tr>\n",
       "    <tr>\n",
       "      <th>8</th>\n",
       "      <td>313000</td>\n",
       "      <td>-1</td>\n",
       "    </tr>\n",
       "    <tr>\n",
       "      <th>9</th>\n",
       "      <td>626000</td>\n",
       "      <td>1</td>\n",
       "    </tr>\n",
       "  </tbody>\n",
       "</table>\n",
       "</div>"
      ],
      "text/plain": [
       "    price  price_cat\n",
       "0  437500         -1\n",
       "1  790000          1\n",
       "2  675000          1\n",
       "3  555000          1\n",
       "4  440000         -1\n",
       "5  295000         -1\n",
       "6  470000          1\n",
       "7  550000          1\n",
       "8  313000         -1\n",
       "9  626000          1"
      ]
     },
     "execution_count": 76,
     "metadata": {},
     "output_type": "execute_result"
    }
   ],
   "source": [
    "features[['price','price_cat']].head(10)"
   ]
  },
  {
   "cell_type": "code",
   "execution_count": 77,
   "metadata": {},
   "outputs": [
    {
     "data": {
      "text/html": [
       "<div>\n",
       "<style scoped>\n",
       "    .dataframe tbody tr th:only-of-type {\n",
       "        vertical-align: middle;\n",
       "    }\n",
       "\n",
       "    .dataframe tbody tr th {\n",
       "        vertical-align: top;\n",
       "    }\n",
       "\n",
       "    .dataframe thead th {\n",
       "        text-align: right;\n",
       "    }\n",
       "</style>\n",
       "<table border=\"1\" class=\"dataframe\">\n",
       "  <thead>\n",
       "    <tr style=\"text-align: right;\">\n",
       "      <th></th>\n",
       "      <th>index</th>\n",
       "      <th>price</th>\n",
       "      <th>bedrooms</th>\n",
       "      <th>bathrooms</th>\n",
       "      <th>sqft_living</th>\n",
       "      <th>sqft_lot</th>\n",
       "      <th>waterfront</th>\n",
       "      <th>sqft_above</th>\n",
       "      <th>sqft_basement</th>\n",
       "      <th>yr_built</th>\n",
       "      <th>...</th>\n",
       "      <th>grade#11</th>\n",
       "      <th>grade#12</th>\n",
       "      <th>grade#13</th>\n",
       "      <th>zipcode#98004</th>\n",
       "      <th>zipcode#98102</th>\n",
       "      <th>zipcode#98109</th>\n",
       "      <th>zipcode#98112</th>\n",
       "      <th>zipcode#98039</th>\n",
       "      <th>zipcode#98040</th>\n",
       "      <th>price_cat</th>\n",
       "    </tr>\n",
       "  </thead>\n",
       "  <tbody>\n",
       "    <tr>\n",
       "      <th>0</th>\n",
       "      <td>16768</td>\n",
       "      <td>437500</td>\n",
       "      <td>3</td>\n",
       "      <td>2.25</td>\n",
       "      <td>1970</td>\n",
       "      <td>35100</td>\n",
       "      <td>0</td>\n",
       "      <td>1970</td>\n",
       "      <td>0</td>\n",
       "      <td>1977</td>\n",
       "      <td>...</td>\n",
       "      <td>0</td>\n",
       "      <td>0</td>\n",
       "      <td>0</td>\n",
       "      <td>0</td>\n",
       "      <td>0</td>\n",
       "      <td>0</td>\n",
       "      <td>0</td>\n",
       "      <td>0</td>\n",
       "      <td>0</td>\n",
       "      <td>-1</td>\n",
       "    </tr>\n",
       "    <tr>\n",
       "      <th>1</th>\n",
       "      <td>9596</td>\n",
       "      <td>790000</td>\n",
       "      <td>3</td>\n",
       "      <td>2.50</td>\n",
       "      <td>2600</td>\n",
       "      <td>4750</td>\n",
       "      <td>0</td>\n",
       "      <td>1700</td>\n",
       "      <td>900</td>\n",
       "      <td>1951</td>\n",
       "      <td>...</td>\n",
       "      <td>0</td>\n",
       "      <td>0</td>\n",
       "      <td>0</td>\n",
       "      <td>0</td>\n",
       "      <td>0</td>\n",
       "      <td>0</td>\n",
       "      <td>0</td>\n",
       "      <td>0</td>\n",
       "      <td>0</td>\n",
       "      <td>1</td>\n",
       "    </tr>\n",
       "    <tr>\n",
       "      <th>2</th>\n",
       "      <td>9587</td>\n",
       "      <td>675000</td>\n",
       "      <td>5</td>\n",
       "      <td>2.50</td>\n",
       "      <td>2820</td>\n",
       "      <td>67518</td>\n",
       "      <td>0</td>\n",
       "      <td>2820</td>\n",
       "      <td>0</td>\n",
       "      <td>1979</td>\n",
       "      <td>...</td>\n",
       "      <td>0</td>\n",
       "      <td>0</td>\n",
       "      <td>0</td>\n",
       "      <td>0</td>\n",
       "      <td>0</td>\n",
       "      <td>0</td>\n",
       "      <td>0</td>\n",
       "      <td>0</td>\n",
       "      <td>0</td>\n",
       "      <td>1</td>\n",
       "    </tr>\n",
       "    <tr>\n",
       "      <th>3</th>\n",
       "      <td>20602</td>\n",
       "      <td>555000</td>\n",
       "      <td>4</td>\n",
       "      <td>2.50</td>\n",
       "      <td>3310</td>\n",
       "      <td>6500</td>\n",
       "      <td>0</td>\n",
       "      <td>3310</td>\n",
       "      <td>0</td>\n",
       "      <td>2012</td>\n",
       "      <td>...</td>\n",
       "      <td>0</td>\n",
       "      <td>0</td>\n",
       "      <td>0</td>\n",
       "      <td>0</td>\n",
       "      <td>0</td>\n",
       "      <td>0</td>\n",
       "      <td>0</td>\n",
       "      <td>0</td>\n",
       "      <td>0</td>\n",
       "      <td>1</td>\n",
       "    </tr>\n",
       "    <tr>\n",
       "      <th>4</th>\n",
       "      <td>11577</td>\n",
       "      <td>440000</td>\n",
       "      <td>4</td>\n",
       "      <td>2.25</td>\n",
       "      <td>2160</td>\n",
       "      <td>8119</td>\n",
       "      <td>0</td>\n",
       "      <td>1080</td>\n",
       "      <td>1080</td>\n",
       "      <td>1966</td>\n",
       "      <td>...</td>\n",
       "      <td>0</td>\n",
       "      <td>0</td>\n",
       "      <td>0</td>\n",
       "      <td>0</td>\n",
       "      <td>0</td>\n",
       "      <td>0</td>\n",
       "      <td>0</td>\n",
       "      <td>0</td>\n",
       "      <td>0</td>\n",
       "      <td>-1</td>\n",
       "    </tr>\n",
       "  </tbody>\n",
       "</table>\n",
       "<p>5 rows × 52 columns</p>\n",
       "</div>"
      ],
      "text/plain": [
       "   index   price  bedrooms  bathrooms  sqft_living  sqft_lot  waterfront  \\\n",
       "0  16768  437500         3       2.25         1970     35100           0   \n",
       "1   9596  790000         3       2.50         2600      4750           0   \n",
       "2   9587  675000         5       2.50         2820     67518           0   \n",
       "3  20602  555000         4       2.50         3310      6500           0   \n",
       "4  11577  440000         4       2.25         2160      8119           0   \n",
       "\n",
       "   sqft_above  sqft_basement  yr_built    ...      grade#11  grade#12  \\\n",
       "0        1970              0      1977    ...             0         0   \n",
       "1        1700            900      1951    ...             0         0   \n",
       "2        2820              0      1979    ...             0         0   \n",
       "3        3310              0      2012    ...             0         0   \n",
       "4        1080           1080      1966    ...             0         0   \n",
       "\n",
       "   grade#13  zipcode#98004  zipcode#98102  zipcode#98109  zipcode#98112  \\\n",
       "0         0              0              0              0              0   \n",
       "1         0              0              0              0              0   \n",
       "2         0              0              0              0              0   \n",
       "3         0              0              0              0              0   \n",
       "4         0              0              0              0              0   \n",
       "\n",
       "   zipcode#98039  zipcode#98040  price_cat  \n",
       "0              0              0         -1  \n",
       "1              0              0          1  \n",
       "2              0              0          1  \n",
       "3              0              0          1  \n",
       "4              0              0         -1  \n",
       "\n",
       "[5 rows x 52 columns]"
      ]
     },
     "execution_count": 77,
     "metadata": {},
     "output_type": "execute_result"
    }
   ],
   "source": [
    "features.head(5)"
   ]
  },
  {
   "cell_type": "markdown",
   "metadata": {},
   "source": [
    "### Part A\n",
    "* Bagging Algo : Random Forest Classifier\n",
    "* Boosting Algo : XGBoost Classifier\n",
    "\n",
    "Bagging uses subsets to get a fair idea of the distribution.Random Forest is one of the algorithm from bagging.Random Forest uses fully grown decision trees (low bias, high variance). It tackles the error reducing variance. RF uses decision trees, which tend to overfit. In order to achieve higher accuracy.\n",
    "\n",
    "Whereas, Boosting is based on weak learners (high bias, low variance). In terms of decision trees, weak learners are shallow trees, sometimes even as small as decision stumps. Boosting reduces error mainly by reducing bias. GBM is a boosting method, which builds on weak classifiers. The idea is to add a classifier at a time, so that the next classifier is trained to improve the already trained ensemble.\n",
    "\n",
    "Which hyper-parameters are important?\n",
    "\n",
    "The important parameters for the Random forest are        'max_depth','max_features''min_samples_leaf','min_samples_split','n_estimators' whereas  the imporant parameters for XGBoost are base_score,max_depth, n_estimators, because these two parameter help in improving performance and reduce over fitting.\n",
    "\n",
    "What hyper-parameter values work best?\n",
    "\n",
    "Max features and n_estimators work best in both classifier.\n",
    "\n",
    "Which supervised learner works best on the test data?\n",
    "\n",
    "The max score for Random forest was 0.91 while XGBoost gave 0.90. This is a decent improvement but not something very substantial.\n",
    "\n",
    "### Random Forest Classifier"
   ]
  },
  {
   "cell_type": "code",
   "execution_count": 203,
   "metadata": {},
   "outputs": [],
   "source": [
    "from sklearn.model_selection import train_test_split"
   ]
  },
  {
   "cell_type": "code",
   "execution_count": 79,
   "metadata": {},
   "outputs": [
    {
     "data": {
      "text/plain": [
       "Index(['index', 'price', 'bedrooms', 'bathrooms', 'sqft_living', 'sqft_lot',\n",
       "       'waterfront', 'sqft_above', 'sqft_basement', 'yr_built', 'yr_renovated',\n",
       "       'lat', 'long', 'sqft_living15', 'sqft_lot15', 'basement_present',\n",
       "       'renovated', 'floors#1.0', 'floors#1.5', 'floors#2.0', 'floors#2.5',\n",
       "       'floors#3.0', 'floors#3.5', 'view#0', 'view#1', 'view#2', 'view#3',\n",
       "       'view#4', 'condition#1', 'condition#2', 'condition#3', 'condition#4',\n",
       "       'condition#5', 'grade#1', 'grade#3', 'grade#4', 'grade#5', 'grade#6',\n",
       "       'grade#7', 'grade#8', 'grade#9', 'grade#10', 'grade#11', 'grade#12',\n",
       "       'grade#13', 'zipcode#98004', 'zipcode#98102', 'zipcode#98109',\n",
       "       'zipcode#98112', 'zipcode#98039', 'zipcode#98040', 'price_cat'],\n",
       "      dtype='object')"
      ]
     },
     "execution_count": 79,
     "metadata": {},
     "output_type": "execute_result"
    }
   ],
   "source": [
    "\n",
    "features.columns\n"
   ]
  },
  {
   "cell_type": "code",
   "execution_count": 80,
   "metadata": {},
   "outputs": [],
   "source": [
    "\n",
    "X_features = ['bedrooms', 'bathrooms', 'sqft_living', 'sqft_lot',\n",
    "       'waterfront', 'sqft_above', 'sqft_basement', 'yr_built', 'yr_renovated',\n",
    "       'lat', 'long', 'sqft_living15', 'sqft_lot15', 'basement_present',\n",
    "       'renovated', 'floors#1.0', 'floors#1.5', 'floors#2.0', 'floors#2.5',\n",
    "       'floors#3.0', 'floors#3.5', 'view#0', 'view#1', 'view#2', 'view#3',\n",
    "       'view#4', 'condition#1', 'condition#2', 'condition#3', 'condition#4',\n",
    "       'condition#5', 'grade#1', 'grade#3', 'grade#4', 'grade#5', 'grade#6',\n",
    "       'grade#7', 'grade#8', 'grade#9', 'grade#10', 'grade#11', 'grade#12',\n",
    "       'grade#13', 'zipcode#98004', 'zipcode#98102', 'zipcode#98109',\n",
    "       'zipcode#98112', 'zipcode#98039', 'zipcode#98040']\n",
    "\n",
    "X=features[['bedrooms', 'bathrooms', 'sqft_living', 'sqft_lot',\n",
    "       'waterfront', 'sqft_above', 'sqft_basement', 'yr_built', 'yr_renovated',\n",
    "       'lat', 'long', 'sqft_living15', 'sqft_lot15', 'basement_present',\n",
    "       'renovated', 'floors#1.0', 'floors#1.5', 'floors#2.0', 'floors#2.5',\n",
    "       'floors#3.0', 'floors#3.5', 'view#0', 'view#1', 'view#2', 'view#3',\n",
    "       'view#4', 'condition#1', 'condition#2', 'condition#3', 'condition#4',\n",
    "       'condition#5', 'grade#1', 'grade#3', 'grade#4', 'grade#5', 'grade#6',\n",
    "       'grade#7', 'grade#8', 'grade#9', 'grade#10', 'grade#11', 'grade#12',\n",
    "       'grade#13', 'zipcode#98004', 'zipcode#98102', 'zipcode#98109',\n",
    "       'zipcode#98112', 'zipcode#98039', 'zipcode#98040']]  # Features\n",
    "\n",
    "y=features['price_cat']  # Labels\n",
    "       \n",
    "# Split dataset into training set and test set\n",
    "X_train, X_test, y_train, y_test = train_test_split(X, y, test_size=0.3) # 70% training and 30% test\n"
   ]
  },
  {
   "cell_type": "code",
   "execution_count": 81,
   "metadata": {},
   "outputs": [],
   "source": [
    "#Import Random Forest Model\n",
    "from sklearn.ensemble import RandomForestClassifier\n",
    "\n",
    "#Create a Gaussian Classifier\n",
    "clf=RandomForestClassifier(n_estimators=100)\n",
    "\n",
    "#Train the model using the training sets y_pred=clf.predict(X_test)\n",
    "clf.fit(X_train,y_train)\n",
    "\n",
    "y_pred=clf.predict(X_test)"
   ]
  },
  {
   "cell_type": "code",
   "execution_count": 82,
   "metadata": {},
   "outputs": [],
   "source": [
    "#Import scikit-learn metrics module for accuracy calculation\n",
    "from sklearn import metrics\n",
    "# Model Accuracy, how often is the classifier correct?\n",
    "#print(\"Accuracy:\",metrics.accuracy_score(y_test, y_pred))"
   ]
  },
  {
   "cell_type": "code",
   "execution_count": 83,
   "metadata": {},
   "outputs": [
    {
     "data": {
      "text/plain": [
       "RandomForestClassifier(bootstrap=True, class_weight=None, criterion='gini',\n",
       "            max_depth=None, max_features='auto', max_leaf_nodes=None,\n",
       "            min_impurity_decrease=0.0, min_impurity_split=None,\n",
       "            min_samples_leaf=1, min_samples_split=2,\n",
       "            min_weight_fraction_leaf=0.0, n_estimators=100, n_jobs=1,\n",
       "            oob_score=False, random_state=None, verbose=0,\n",
       "            warm_start=False)"
      ]
     },
     "execution_count": 83,
     "metadata": {},
     "output_type": "execute_result"
    }
   ],
   "source": [
    "RandomForestClassifier(bootstrap=True, class_weight=None, criterion='gini',\n",
    "            max_depth=None, max_features='auto', max_leaf_nodes=None,\n",
    "            min_impurity_split=None,\n",
    "            min_samples_leaf=1, min_samples_split=2,\n",
    "            min_weight_fraction_leaf=0.0, n_estimators=100, n_jobs=1,\n",
    "            oob_score=False, random_state=None, verbose=0,\n",
    "            warm_start=False)"
   ]
  },
  {
   "cell_type": "code",
   "execution_count": 84,
   "metadata": {},
   "outputs": [
    {
     "data": {
      "text/plain": [
       "lat                 0.267786\n",
       "sqft_living         0.124418\n",
       "sqft_living15       0.091659\n",
       "sqft_above          0.076276\n",
       "long                0.056279\n",
       "sqft_lot15          0.055091\n",
       "yr_built            0.050045\n",
       "sqft_lot            0.047569\n",
       "bathrooms           0.039106\n",
       "grade#7             0.027577\n",
       "sqft_basement       0.026090\n",
       "bedrooms            0.017335\n",
       "grade#9             0.017057\n",
       "grade#8             0.014203\n",
       "grade#6             0.012708\n",
       "basement_present    0.010634\n",
       "view#0              0.008873\n",
       "floors#1.0          0.008105\n",
       "grade#10            0.006048\n",
       "condition#3         0.005900\n",
       "floors#2.0          0.005597\n",
       "condition#4         0.004597\n",
       "floors#1.5          0.004057\n",
       "condition#5         0.003260\n",
       "yr_renovated        0.003110\n",
       "view#2              0.001948\n",
       "renovated           0.001776\n",
       "zipcode#98004       0.001344\n",
       "view#4              0.001316\n",
       "waterfront          0.001190\n",
       "floors#3.0          0.001173\n",
       "view#3              0.001101\n",
       "zipcode#98040       0.001101\n",
       "view#1              0.001093\n",
       "grade#5             0.000889\n",
       "zipcode#98112       0.000870\n",
       "zipcode#98102       0.000578\n",
       "condition#2         0.000484\n",
       "zipcode#98109       0.000480\n",
       "floors#2.5          0.000392\n",
       "condition#1         0.000311\n",
       "zipcode#98039       0.000231\n",
       "grade#11            0.000196\n",
       "floors#3.5          0.000063\n",
       "grade#12            0.000043\n",
       "grade#4             0.000037\n",
       "grade#3             0.000000\n",
       "grade#13            0.000000\n",
       "grade#1             0.000000\n",
       "dtype: float64"
      ]
     },
     "execution_count": 84,
     "metadata": {},
     "output_type": "execute_result"
    }
   ],
   "source": [
    "feature_imp = pd.Series(clf.feature_importances_,index=X_features).sort_values(ascending=False)\n",
    "feature_imp"
   ]
  },
  {
   "cell_type": "code",
   "execution_count": 85,
   "metadata": {},
   "outputs": [
    {
     "data": {
      "text/plain": [
       "lat              0.267786\n",
       "sqft_living      0.124418\n",
       "sqft_living15    0.091659\n",
       "sqft_above       0.076276\n",
       "long             0.056279\n",
       "sqft_lot15       0.055091\n",
       "yr_built         0.050045\n",
       "sqft_lot         0.047569\n",
       "bathrooms        0.039106\n",
       "grade#7          0.027577\n",
       "dtype: float64"
      ]
     },
     "execution_count": 85,
     "metadata": {},
     "output_type": "execute_result"
    }
   ],
   "source": [
    "top_features = feature_imp.head(10)\n",
    "top_features"
   ]
  },
  {
   "cell_type": "code",
   "execution_count": 86,
   "metadata": {},
   "outputs": [
    {
     "name": "stderr",
     "output_type": "stream",
     "text": [
      "No handles with labels found to put in legend.\n"
     ]
    },
    {
     "data": {
      "image/png": "[encoded data removed]",
      "text/plain": [
       "<Figure size 432x288 with 1 Axes>"
      ]
     },
     "metadata": {
      "needs_background": "light"
     },
     "output_type": "display_data"
    }
   ],
   "source": [
    "# Creating a bar plot\n",
    "sns.barplot(x=top_features, y=top_features.index)\n",
    "# Add labels to your graph\n",
    "plt.xlabel('Feature Importance Score')\n",
    "plt.ylabel('Features')\n",
    "plt.title(\"Visualizing Important Features\")\n",
    "plt.legend()\n",
    "plt.show()"
   ]
  },
  {
   "cell_type": "code",
   "execution_count": 87,
   "metadata": {},
   "outputs": [],
   "source": [
    "from pprint import pprint"
   ]
  },
  {
   "cell_type": "code",
   "execution_count": 88,
   "metadata": {},
   "outputs": [
    {
     "name": "stdout",
     "output_type": "stream",
     "text": [
      "Parameters currently in use:\n",
      "\n",
      "{'bootstrap': True,\n",
      " 'class_weight': None,\n",
      " 'criterion': 'gini',\n",
      " 'max_depth': None,\n",
      " 'max_features': 'auto',\n",
      " 'max_leaf_nodes': None,\n",
      " 'min_impurity_decrease': 0.0,\n",
      " 'min_impurity_split': None,\n",
      " 'min_samples_leaf': 1,\n",
      " 'min_samples_split': 2,\n",
      " 'min_weight_fraction_leaf': 0.0,\n",
      " 'n_estimators': 100,\n",
      " 'n_jobs': 1,\n",
      " 'oob_score': False,\n",
      " 'random_state': None,\n",
      " 'verbose': 0,\n",
      " 'warm_start': False}\n"
     ]
    }
   ],
   "source": [
    "# Look at parameters used by our current forest\n",
    "print('Parameters currently in use:\\n')\n",
    "pprint(clf.get_params())"
   ]
  },
  {
   "cell_type": "markdown",
   "metadata": {},
   "source": [
    "According to the the documentation, the most important settings are the number of trees in the forest (n_estimators) and the number of features considered for splitting at each leaf node (max_features)\n",
    "\n",
    "We will try adjusting the following set of hyperparameters:\n",
    "\n",
    "##### Finding important hyper-parameters\n",
    "The important parameters for a Random Forest Classfier are as follows:\n",
    "\n",
    "#### We will use RandomSearchCV and GridSearchCV to find the best values for the same"
   ]
  },
  {
   "cell_type": "code",
   "execution_count": 89,
   "metadata": {},
   "outputs": [],
   "source": [
    "from sklearn.model_selection import RandomizedSearchCV"
   ]
  },
  {
   "cell_type": "code",
   "execution_count": 90,
   "metadata": {},
   "outputs": [
    {
     "name": "stdout",
     "output_type": "stream",
     "text": [
      "{'max_depth': [2, 4, 6, 8, 10, None],\n",
      " 'max_features': ['auto', 'sqrt'],\n",
      " 'min_samples_leaf': [2, 4],\n",
      " 'min_samples_split': [5, 10],\n",
      " 'n_estimators': [10, 57, 105, 152, 200]}\n"
     ]
    }
   ],
   "source": [
    "# Number of trees in random forest\n",
    "n_estimators = [int(x) for x in np.linspace(start = 10, stop = 200, num = 5)]\n",
    "# Number of features to consider at every split\n",
    "max_features = ['auto', 'sqrt']\n",
    "# Maximum number of levels in tree\n",
    "max_depth = [int(x) for x in np.linspace(2, 10, num = 5)]\n",
    "max_depth.append(None)\n",
    "# Minimum number of samples required to split a node\n",
    "min_samples_split = [5, 10]\n",
    "# Minimum number of samples required at each leaf node\n",
    "min_samples_leaf = [2, 4]\n",
    "# Method of selecting samples for training each tree\n",
    "#bootstrap = [True, False]\n",
    "# Create the random grid\n",
    "random_grid = {'n_estimators': n_estimators,\n",
    "               'max_features': max_features,\n",
    "               'max_depth': max_depth,\n",
    "               'min_samples_split': min_samples_split,\n",
    "               'min_samples_leaf': min_samples_leaf}\n",
    "pprint(random_grid)"
   ]
  },
  {
   "cell_type": "code",
   "execution_count": 91,
   "metadata": {},
   "outputs": [
    {
     "name": "stdout",
     "output_type": "stream",
     "text": [
      "Fitting 3 folds for each of 100 candidates, totalling 300 fits\n"
     ]
    },
    {
     "name": "stderr",
     "output_type": "stream",
     "text": [
      "[Parallel(n_jobs=-1)]: Done  25 tasks      | elapsed:   18.2s\n",
      "[Parallel(n_jobs=-1)]: Done 146 tasks      | elapsed:   45.4s\n",
      "[Parallel(n_jobs=-1)]: Done 300 out of 300 | elapsed:  1.6min finished\n"
     ]
    },
    {
     "data": {
      "text/plain": [
       "RandomizedSearchCV(cv=3, error_score='raise',\n",
       "          estimator=RandomForestClassifier(bootstrap=True, class_weight=None, criterion='gini',\n",
       "            max_depth=None, max_features='auto', max_leaf_nodes=None,\n",
       "            min_impurity_decrease=0.0, min_impurity_split=None,\n",
       "            min_samples_leaf=1, min_samples_split=2,\n",
       "            min_weight_fraction_leaf=0.0, n_estimators=10, n_jobs=1,\n",
       "            oob_score=False, random_state=None, verbose=0,\n",
       "            warm_start=False),\n",
       "          fit_params=None, iid=True, n_iter=100, n_jobs=-1,\n",
       "          param_distributions={'n_estimators': [10, 57, 105, 152, 200], 'max_features': ['auto', 'sqrt'], 'max_depth': [2, 4, 6, 8, 10, None], 'min_samples_split': [5, 10], 'min_samples_leaf': [2, 4]},\n",
       "          pre_dispatch='2*n_jobs', random_state=42, refit=True,\n",
       "          return_train_score='warn', scoring=None, verbose=2)"
      ]
     },
     "execution_count": 91,
     "metadata": {},
     "output_type": "execute_result"
    }
   ],
   "source": [
    "# Use the random grid to search for best hyperparameters\n",
    "# First create the base model to tune\n",
    "clf_base = RandomForestClassifier()\n",
    "# Random search of parameters, using 3 fold cross validation, \n",
    "# search across 100 different combinations, and use all available cores\n",
    "clf_random = RandomizedSearchCV(estimator = clf_base, param_distributions = random_grid, n_iter = 100, cv = 3, verbose=2, random_state=42, n_jobs = -1)\n",
    "# Fit the random search model\n",
    "clf_random.fit(X_train,y_train)"
   ]
  },
  {
   "cell_type": "code",
   "execution_count": 92,
   "metadata": {},
   "outputs": [
    {
     "data": {
      "text/plain": [
       "{'max_depth': None,\n",
       " 'max_features': 'sqrt',\n",
       " 'min_samples_leaf': 2,\n",
       " 'min_samples_split': 5,\n",
       " 'n_estimators': 200}"
      ]
     },
     "execution_count": 92,
     "metadata": {},
     "output_type": "execute_result"
    }
   ],
   "source": [
    "clf_random.best_params_"
   ]
  },
  {
   "cell_type": "markdown",
   "metadata": {},
   "source": [
    "#### Evaluate Random Search"
   ]
  },
  {
   "cell_type": "code",
   "execution_count": 93,
   "metadata": {},
   "outputs": [],
   "source": [
    "## Common Classification algorithm evaluator. It returns the roc_auc\n",
    "from sklearn.metrics import roc_curve, auc\n",
    "def evaluate(model, X_train,y_train, X_test, y_test):\n",
    "    model.fit(X_train,y_train)\n",
    "    predictions = model.predict(X_test)\n",
    "    false_positive_rate, true_positive_rate, thresholds = roc_curve(y_test, predictions)\n",
    "    roc_auc = auc(false_positive_rate, true_positive_rate)\n",
    "    #print(roc)\n",
    "    return roc_auc"
   ]
  },
  {
   "cell_type": "code",
   "execution_count": 94,
   "metadata": {},
   "outputs": [],
   "source": [
    "base_model = RandomForestClassifier(n_estimators = 10, random_state = 42)"
   ]
  },
  {
   "cell_type": "code",
   "execution_count": 95,
   "metadata": {},
   "outputs": [],
   "source": [
    "best_random = clf_random.best_estimator_"
   ]
  },
  {
   "cell_type": "code",
   "execution_count": 96,
   "metadata": {},
   "outputs": [
    {
     "name": "stdout",
     "output_type": "stream",
     "text": [
      "ROC for base model : 0.8949565964192188\n",
      "ROC for best model : 0.9030936019737658\n"
     ]
    }
   ],
   "source": [
    "print('ROC for base model : ' + str(evaluate(base_model,X_train,y_train, X_test, y_test)))\n",
    "print('ROC for best model : ' + str(evaluate(best_random,X_train,y_train, X_test, y_test)))"
   ]
  },
  {
   "cell_type": "markdown",
   "metadata": {},
   "source": [
    "####  Grid Search with Cross Validation"
   ]
  },
  {
   "cell_type": "code",
   "execution_count": 97,
   "metadata": {},
   "outputs": [],
   "source": [
    "\n",
    "from sklearn.model_selection import GridSearchCV\n",
    "# Create the parameter grid based on the results of random search \n",
    "param_grid = {\n",
    "    'bootstrap': [True],\n",
    "    'max_features': ['auto'],\n",
    "    'min_samples_leaf': [1,2,3],\n",
    "    'min_samples_split': [3,5,7],\n",
    "    'n_estimators': [100, 200, 2000]\n",
    "}\n",
    "# Create a based model\n",
    "clf = RandomForestClassifier()\n",
    "# Instantiate the grid search model\n",
    "grid_search = GridSearchCV(estimator = clf, param_grid = param_grid, \n",
    "                          cv = 3, n_jobs = -1, verbose = 2)"
   ]
  },
  {
   "cell_type": "code",
   "execution_count": 100,
   "metadata": {},
   "outputs": [
    {
     "name": "stdout",
     "output_type": "stream",
     "text": [
      "Fitting 3 folds for each of 27 candidates, totalling 81 fits\n"
     ]
    },
    {
     "name": "stderr",
     "output_type": "stream",
     "text": [
      "[Parallel(n_jobs=-1)]: Done  25 tasks      | elapsed:  1.6min\n",
      "[Parallel(n_jobs=-1)]: Done  81 out of  81 | elapsed:  5.6min finished\n"
     ]
    },
    {
     "data": {
      "text/plain": [
       "GridSearchCV(cv=3, error_score='raise',\n",
       "       estimator=RandomForestClassifier(bootstrap=True, class_weight=None, criterion='gini',\n",
       "            max_depth=None, max_features='auto', max_leaf_nodes=None,\n",
       "            min_impurity_decrease=0.0, min_impurity_split=None,\n",
       "            min_samples_leaf=1, min_samples_split=2,\n",
       "            min_weight_fraction_leaf=0.0, n_estimators=10, n_jobs=1,\n",
       "            oob_score=False, random_state=None, verbose=0,\n",
       "            warm_start=False),\n",
       "       fit_params=None, iid=True, n_jobs=-1,\n",
       "       param_grid={'bootstrap': [True], 'max_features': ['auto'], 'min_samples_leaf': [1, 2, 3], 'min_samples_split': [3, 5, 7], 'n_estimators': [100, 200, 2000]},\n",
       "       pre_dispatch='2*n_jobs', refit=True, return_train_score='warn',\n",
       "       scoring=None, verbose=2)"
      ]
     },
     "execution_count": 100,
     "metadata": {},
     "output_type": "execute_result"
    }
   ],
   "source": [
    "grid_search.fit(X_train, y_train)"
   ]
  },
  {
   "cell_type": "code",
   "execution_count": 101,
   "metadata": {},
   "outputs": [
    {
     "data": {
      "text/plain": [
       "{'bootstrap': True,\n",
       " 'max_features': 'auto',\n",
       " 'min_samples_leaf': 1,\n",
       " 'min_samples_split': 7,\n",
       " 'n_estimators': 2000}"
      ]
     },
     "execution_count": 101,
     "metadata": {},
     "output_type": "execute_result"
    }
   ],
   "source": [
    "grid_search.best_params_"
   ]
  },
  {
   "cell_type": "code",
   "execution_count": 102,
   "metadata": {},
   "outputs": [],
   "source": [
    "best_grid = grid_search.best_estimator_"
   ]
  },
  {
   "cell_type": "code",
   "execution_count": 103,
   "metadata": {},
   "outputs": [
    {
     "name": "stdout",
     "output_type": "stream",
     "text": [
      "ROC for best grid search model : 0.9063199862040454\n"
     ]
    }
   ],
   "source": [
    "print('ROC for best grid search model : ' + str(evaluate(best_grid,X_train,y_train, X_test, y_test)))"
   ]
  },
  {
   "cell_type": "markdown",
   "metadata": {},
   "source": [
    "ROC for best grid search model : 0.907130854601\n",
    "#### Now lets implement XGBoost (eXtreme Gradient Boosting)¶\n",
    "I’ll consider only tree booster here because it always outperforms the linear booster and thus the later is rarely used."
   ]
  },
  {
   "cell_type": "code",
   "execution_count": 104,
   "metadata": {},
   "outputs": [],
   "source": [
    "from xgboost import XGBClassifier\n",
    "from sklearn.metrics import accuracy_score"
   ]
  },
  {
   "cell_type": "code",
   "execution_count": 105,
   "metadata": {},
   "outputs": [
    {
     "data": {
      "text/plain": [
       "XGBClassifier(base_score=0.5, booster='gbtree', colsample_bylevel=1,\n",
       "       colsample_bytree=1, gamma=0, learning_rate=0.1, max_delta_step=0,\n",
       "       max_depth=3, min_child_weight=1, missing=None, n_estimators=100,\n",
       "       n_jobs=1, nthread=None, objective='binary:logistic', random_state=0,\n",
       "       reg_alpha=0, reg_lambda=1, scale_pos_weight=1, seed=None,\n",
       "       silent=True, subsample=1)"
      ]
     },
     "execution_count": 105,
     "metadata": {},
     "output_type": "execute_result"
    }
   ],
   "source": [
    "# fit model on training data\n",
    "xgBoostClassifierModel = XGBClassifier()\n",
    "xgBoostClassifierModel.fit(X_train, y_train)"
   ]
  },
  {
   "cell_type": "code",
   "execution_count": 106,
   "metadata": {},
   "outputs": [
    {
     "name": "stderr",
     "output_type": "stream",
     "text": [
      "C:\\Users\\Spurthy\\Anaconda3\\lib\\site-packages\\sklearn\\preprocessing\\label.py:151: DeprecationWarning: The truth value of an empty array is ambiguous. Returning False, but in future this will result in an error. Use `array.size > 0` to check that an array is not empty.\n",
      "  if diff:\n"
     ]
    }
   ],
   "source": [
    "# make predictions for test data\n",
    "y_pred = xgBoostClassifierModel.predict(X_test)\n",
    "predictions = [round(value) for value in y_pred]"
   ]
  },
  {
   "cell_type": "code",
   "execution_count": 107,
   "metadata": {},
   "outputs": [
    {
     "name": "stdout",
     "output_type": "stream",
     "text": [
      "Accuracy: 90.41%\n"
     ]
    }
   ],
   "source": [
    "# evaluate predictions\n",
    "accuracy = accuracy_score(y_test, predictions)\n",
    "print(\"Accuracy: %.2f%%\" % (accuracy * 100.0))"
   ]
  },
  {
   "cell_type": "code",
   "execution_count": 162,
   "metadata": {},
   "outputs": [],
   "source": [
    "from sklearn.model_selection import GridSearchCV\n",
    "from sklearn.model_selection import StratifiedKFold"
   ]
  },
  {
   "cell_type": "code",
   "execution_count": 168,
   "metadata": {},
   "outputs": [
    {
     "name": "stdout",
     "output_type": "stream",
     "text": [
      "Best: -0.210154 using {'n_estimators': 350}\n",
      "-0.256673 (0.008626) with: {'n_estimators': 50}\n",
      "-0.231167 (0.008835) with: {'n_estimators': 100}\n",
      "-0.221099 (0.009451) with: {'n_estimators': 150}\n",
      "-0.216295 (0.009496) with: {'n_estimators': 200}\n",
      "-0.212897 (0.009294) with: {'n_estimators': 250}\n",
      "-0.211326 (0.009452) with: {'n_estimators': 300}\n",
      "-0.210154 (0.009997) with: {'n_estimators': 350}\n"
     ]
    },
    {
     "data": {
      "image/png": "[encoded data removed]",
      "text/plain": [
       "<Figure size 432x288 with 1 Axes>"
      ]
     },
     "metadata": {
      "needs_background": "light"
     },
     "output_type": "display_data"
    }
   ],
   "source": [
    "model = XGBClassifier()\n",
    "n_estimators = range(50, 400, 50)\n",
    "param_grid = dict(n_estimators=n_estimators)\n",
    "kfold = StratifiedKFold(n_splits=10, shuffle=True, random_state=7)\n",
    "grid_search = GridSearchCV(model, param_grid, scoring=\"neg_log_loss\", n_jobs=-1, cv=kfold)\n",
    "grid_result = grid_search.fit(X_train, y_train)\n",
    "# summarize results\n",
    "print(\"Best: %f using %s\" % (grid_result.best_score_, grid_result.best_params_))\n",
    "means = grid_result.cv_results_['mean_test_score']\n",
    "stds = grid_result.cv_results_['std_test_score']\n",
    "params = grid_result.cv_results_['params']\n",
    "for mean, stdev, param in zip(means, stds, params):\n",
    "\tprint(\"%f (%f) with: %r\" % (mean, stdev, param))\n",
    "# plot\n",
    "plt.errorbar(n_estimators, means, yerr=stds)\n",
    "plt.title(\"XGBoost n_estimators vs Log Loss\")\n",
    "plt.xlabel('n_estimators')\n",
    "plt.ylabel('Log Loss')\n",
    "plt.savefig('n_estimators.png')"
   ]
  },
  {
   "cell_type": "markdown",
   "metadata": {},
   "source": [
    "We can see that the cross validation log loss scores are negative. This is because the scikit-learn cross validation framework inverted them. The reason is that internally, the framework requires that all metrics that are being optimized are to be maximized, whereas log loss is a minimization metric. It can easily be made maximizing by inverting the scores.\n",
    "\n",
    "The best number of trees was n_estimators=350 resulting in a log loss of -0.213537, but really not a significant difference from n_estimators=200. In fact, there is not a large relative difference in the number of trees between 100 and 350 if we plot the results.\n",
    "\n",
    "### Tune the Size of Decision Trees in XGBoost\n",
    "In gradient boosting, we can control the size of decision trees, also called the number of layers or the depth.\n",
    "\n",
    "Shallow trees are expected to have poor performance because they capture few details of the problem and are generally referred to as weak learners. Deeper trees generally capture too many details of the problem and overfit the training dataset, limiting the ability to make good predictions on new data.\n",
    "\n",
    "Generally, boosting algorithms are configured with weak learners, decision trees with few layers, sometimes as simple as just a root node, also called a decision stump rather than a decision tree.\n",
    "\n",
    "The maximum depth can be specified in the XGBClassifier and XGBRegressor wrapper classes for XGBoost in the max_depth parameter. This parameter takes an integer value and defaults to a value of 3."
   ]
  },
  {
   "cell_type": "code",
   "execution_count": 110,
   "metadata": {},
   "outputs": [
    {
     "name": "stdout",
     "output_type": "stream",
     "text": [
      "range(1, 11, 2)\n",
      "Fitting 10 folds for each of 5 candidates, totalling 50 fits\n"
     ]
    },
    {
     "name": "stderr",
     "output_type": "stream",
     "text": [
      "[Parallel(n_jobs=-1)]: Done  34 tasks      | elapsed:   34.5s\n",
      "[Parallel(n_jobs=-1)]: Done  50 out of  50 | elapsed:   57.4s finished\n"
     ]
    },
    {
     "name": "stdout",
     "output_type": "stream",
     "text": [
      "Best: -0.206592 using {'max_depth': 7}\n",
      "-0.332437 (0.006152) with: {'max_depth': 1}\n",
      "-0.231167 (0.008835) with: {'max_depth': 3}\n",
      "-0.210723 (0.009360) with: {'max_depth': 5}\n",
      "-0.206592 (0.010710) with: {'max_depth': 7}\n",
      "-0.210468 (0.011504) with: {'max_depth': 9}\n"
     ]
    }
   ],
   "source": [
    "model = XGBClassifier()\n",
    "max_depth = range(1, 11, 2)\n",
    "print(max_depth)\n",
    "param_grid = dict(max_depth=max_depth)\n",
    "kfold = StratifiedKFold(n_splits=10, shuffle=True, random_state=7)\n",
    "grid_search = GridSearchCV(model, param_grid, scoring=\"neg_log_loss\", n_jobs=-1, cv=kfold, verbose=1)\n",
    "grid_result = grid_search.fit(X_train, y_train)\n",
    "# summarize results\n",
    "print(\"Best: %f using %s\" % (grid_result.best_score_, grid_result.best_params_))\n",
    "means = grid_result.cv_results_['mean_test_score']\n",
    "stds = grid_result.cv_results_['std_test_score']\n",
    "params = grid_result.cv_results_['params']\n",
    "for mean, stdev, param in zip(means, stds, params):\n",
    "\tprint(\"%f (%f) with: %r\" % (mean, stdev, param))"
   ]
  },
  {
   "cell_type": "code",
   "execution_count": 111,
   "metadata": {},
   "outputs": [
    {
     "data": {
      "image/png": "[encoded data removed]",
      "text/plain": [
       "<Figure size 432x288 with 1 Axes>"
      ]
     },
     "metadata": {
      "needs_background": "light"
     },
     "output_type": "display_data"
    }
   ],
   "source": [
    "# plot\n",
    "plt.errorbar(max_depth, means, yerr=stds)\n",
    "plt.title(\"XGBoost max_depth vs Log Loss\")\n",
    "plt.xlabel('max_depth')\n",
    "plt.ylabel('Log Loss')\n",
    "plt.savefig('max_depth.png')"
   ]
  },
  {
   "cell_type": "markdown",
   "metadata": {},
   "source": [
    "Reviewing the plot of log loss scores, we can see a marked jump from max_depth=1 to max_depth=3 then pretty even performance for the rest the values of max_depth.\n",
    "\n",
    "Although the best score was observed for max_depth=5, it is interesting to note that there was practically little difference between using max_depth=3 or max_depth=7.\n",
    "\n",
    "This suggests a point of diminishing returns in max_depth on a problem that you can tease out using grid search. A graph of max_depth values is plotted against (inverted) logarithmic loss below.\n",
    "\n",
    "#### Tune The Number of Trees and Max Depth in XGBoost\n",
    "There is a relationship between the number of trees in the model and the depth of each tree.\n",
    "\n",
    "We would expect that deeper trees would result in fewer trees being required in the model, and the inverse where simpler trees (such as decision stumps) require many more trees to achieve similar results.\n",
    "\n",
    "We can investigate this relationship by evaluating a grid of n_estimators and max_depth configuration values. To avoid the evaluation taking too long, we will limit the total number of configuration values evaluated. Parameters were chosen to tease out the relationship rather than optimize the model.\n",
    "\n",
    "We will create a grid of 4 different n_estimators values (350, 300, 250, 400) and 4 different max_depth values (6, 7, 8, 9) and each combination will be evaluated using 10-fold cross validation. A total of 4410 or 160 models will be trained and evaluated."
   ]
  },
  {
   "cell_type": "code",
   "execution_count": 112,
   "metadata": {},
   "outputs": [
    {
     "name": "stdout",
     "output_type": "stream",
     "text": [
      "[6, 7, 8, 9]\n",
      "Fitting 10 folds for each of 16 candidates, totalling 160 fits\n"
     ]
    },
    {
     "name": "stderr",
     "output_type": "stream",
     "text": [
      "[Parallel(n_jobs=-1)]: Done  34 tasks      | elapsed:  2.5min\n",
      "[Parallel(n_jobs=-1)]: Done 160 out of 160 | elapsed: 13.1min finished\n"
     ]
    },
    {
     "name": "stdout",
     "output_type": "stream",
     "text": [
      "Best: -0.208562 using {'max_depth': 6, 'n_estimators': 250}\n",
      "-0.211358 (0.012622) with: {'max_depth': 6, 'n_estimators': 350}\n",
      "-0.209803 (0.011919) with: {'max_depth': 6, 'n_estimators': 300}\n",
      "-0.208562 (0.011475) with: {'max_depth': 6, 'n_estimators': 250}\n",
      "-0.213535 (0.012614) with: {'max_depth': 6, 'n_estimators': 400}\n",
      "-0.218324 (0.013387) with: {'max_depth': 7, 'n_estimators': 350}\n",
      "-0.214853 (0.012509) with: {'max_depth': 7, 'n_estimators': 300}\n",
      "-0.211249 (0.012149) with: {'max_depth': 7, 'n_estimators': 250}\n",
      "-0.222008 (0.013667) with: {'max_depth': 7, 'n_estimators': 400}\n",
      "-0.226182 (0.015475) with: {'max_depth': 8, 'n_estimators': 350}\n",
      "-0.221666 (0.014930) with: {'max_depth': 8, 'n_estimators': 300}\n",
      "-0.217470 (0.013702) with: {'max_depth': 8, 'n_estimators': 250}\n",
      "-0.230534 (0.016049) with: {'max_depth': 8, 'n_estimators': 400}\n",
      "-0.234698 (0.014986) with: {'max_depth': 9, 'n_estimators': 350}\n",
      "-0.229099 (0.014423) with: {'max_depth': 9, 'n_estimators': 300}\n",
      "-0.223443 (0.013961) with: {'max_depth': 9, 'n_estimators': 250}\n",
      "-0.240585 (0.015617) with: {'max_depth': 9, 'n_estimators': 400}\n"
     ]
    }
   ],
   "source": [
    "# grid search\n",
    "model = XGBClassifier()\n",
    "n_estimators = [350, 300, 250, 400]\n",
    "max_depth = [6, 7, 8, 9]\n",
    "print(max_depth)\n",
    "param_grid = dict(max_depth=max_depth, n_estimators=n_estimators)\n",
    "kfold = StratifiedKFold(n_splits=10, shuffle=True, random_state=7)\n",
    "grid_search = GridSearchCV(model, param_grid, scoring=\"neg_log_loss\", n_jobs=-1, cv=kfold, verbose=1)\n",
    "grid_result = grid_search.fit(X_train, y_train)\n",
    "# summarize results\n",
    "print(\"Best: %f using %s\" % (grid_result.best_score_, grid_result.best_params_))\n",
    "means = grid_result.cv_results_['mean_test_score']\n",
    "stds = grid_result.cv_results_['std_test_score']\n",
    "params = grid_result.cv_results_['params']\n",
    "for mean, stdev, param in zip(means, stds, params):\n",
    "\tprint(\"%f (%f) with: %r\" % (mean, stdev, param))"
   ]
  },
  {
   "cell_type": "code",
   "execution_count": 113,
   "metadata": {},
   "outputs": [
    {
     "data": {
      "image/png": "[encoded data removed]",
      "text/plain": [
       "<Figure size 432x288 with 1 Axes>"
      ]
     },
     "metadata": {
      "needs_background": "light"
     },
     "output_type": "display_data"
    }
   ],
   "source": [
    "# plot results\n",
    "scores = np.array(means).reshape(len(max_depth), len(n_estimators))\n",
    "for i, value in enumerate(max_depth):\n",
    "    plt.plot(n_estimators, scores[i], label='depth: ' + str(value))\n",
    "plt.legend()\n",
    "plt.xlabel('n_estimators')\n",
    "plt.ylabel('Log Loss')\n",
    "plt.savefig('n_estimators_vs_max_depth.png')"
   ]
  },
  {
   "cell_type": "markdown",
   "metadata": {},
   "source": [
    "We can see that the best result was achieved with a n_estimators=250 and max_depth=6, similar to the best values found from the previous two rounds of standalone parameter tuning (n_estimators=250, max_depth=5).\n",
    "\n",
    "We can plot the relationship between each series of max_depth values for a given n_estimators.\n",
    "\n",
    "Fewer boosted trees are required with increased tree depth.\n",
    "\n",
    "Further, we would expect the increase complexity provided by deeper individual trees to result in greater overfitting of the training data which would be exacerbated by having more trees, in turn resulting in a lower cross validation score. We don’t see this here as our trees are not that deep nor do we have too many. Exploring this expectation is left as an exercise you could explore yourself.\n",
    "\n",
    "### Creating the model with the best values for Hyper parameters"
   ]
  },
  {
   "cell_type": "code",
   "execution_count": 114,
   "metadata": {},
   "outputs": [],
   "source": [
    "model = XGBClassifier(max_depth=6, n_estimators=250)"
   ]
  },
  {
   "cell_type": "code",
   "execution_count": 115,
   "metadata": {},
   "outputs": [
    {
     "name": "stdout",
     "output_type": "stream",
     "text": [
      "XGBClassifier(base_score=0.5, booster='gbtree', colsample_bylevel=1,\n",
      "       colsample_bytree=1, gamma=0, learning_rate=0.1, max_delta_step=0,\n",
      "       max_depth=6, min_child_weight=1, missing=None, n_estimators=250,\n",
      "       n_jobs=1, nthread=None, objective='binary:logistic', random_state=0,\n",
      "       reg_alpha=0, reg_lambda=1, scale_pos_weight=1, seed=None,\n",
      "       silent=True, subsample=1)\n"
     ]
    }
   ],
   "source": [
    "print(model)"
   ]
  },
  {
   "cell_type": "code",
   "execution_count": 116,
   "metadata": {},
   "outputs": [
    {
     "name": "stderr",
     "output_type": "stream",
     "text": [
      "C:\\Users\\Spurthy\\Anaconda3\\lib\\site-packages\\sklearn\\preprocessing\\label.py:151: DeprecationWarning: The truth value of an empty array is ambiguous. Returning False, but in future this will result in an error. Use `array.size > 0` to check that an array is not empty.\n",
      "  if diff:\n"
     ]
    }
   ],
   "source": [
    "model.fit(X_train, y_train)\n",
    "y_pred = model.predict(X_test)\n",
    "predictions = [round(value) for value in y_pred]"
   ]
  },
  {
   "cell_type": "code",
   "execution_count": 117,
   "metadata": {},
   "outputs": [
    {
     "name": "stdout",
     "output_type": "stream",
     "text": [
      "ROC for the XGBoost model is: 0.9129723277666048\n"
     ]
    },
    {
     "name": "stderr",
     "output_type": "stream",
     "text": [
      "C:\\Users\\Spurthy\\Anaconda3\\lib\\site-packages\\sklearn\\preprocessing\\label.py:151: DeprecationWarning: The truth value of an empty array is ambiguous. Returning False, but in future this will result in an error. Use `array.size > 0` to check that an array is not empty.\n",
      "  if diff:\n"
     ]
    }
   ],
   "source": [
    "print('ROC for the XGBoost model is: ' + str(evaluate(model, X_train,y_train, X_test, y_test)))"
   ]
  },
  {
   "cell_type": "markdown",
   "metadata": {},
   "source": [
    "### Thus we got a higher ROC for XGBoost model than the bagging models tried earlier\n",
    "\n",
    "#### Classification with Logistic Regression\n",
    "\n",
    "Logistic regression is a supervised learning algorithm because it uses true labels for training. Supervised learning algorithm should have input variables (x) and an target variable (Y) when you train the model .\n",
    "\n",
    "After Comparing Logistic Regressio with above Based tree Algorithms in part A\n",
    "* The important parameters are bedrooms, sqft_living, waterfront, sqft_basement, yr_built, bathrooms\n",
    "* There is no multicolinearity present in logistic regression\n",
    "* The accuracy obtained from logistic regresion is 73% which is exceptionally less as compared to any Part A algortihms\n",
    "  \n",
    "We need to develop a Nominal Logistic Regression model which will predict whether the house price is HIGH(1) or LOW(-1)"
   ]
  },
  {
   "cell_type": "code",
   "execution_count": 118,
   "metadata": {},
   "outputs": [],
   "source": [
    "import statsmodels.api as sm\n",
    "import statsmodels.formula.api as smf\n",
    "import pandas as pd\n",
    "from sklearn.linear_model import LogisticRegression"
   ]
  },
  {
   "cell_type": "code",
   "execution_count": 119,
   "metadata": {},
   "outputs": [],
   "source": [
    "features['price_cat_log'] = features['price'].apply(lambda x: 1 if x > median_price else 0)"
   ]
  },
  {
   "cell_type": "code",
   "execution_count": 120,
   "metadata": {},
   "outputs": [
    {
     "data": {
      "text/plain": [
       "Index(['index', 'price', 'bedrooms', 'bathrooms', 'sqft_living', 'sqft_lot',\n",
       "       'waterfront', 'sqft_above', 'sqft_basement', 'yr_built', 'yr_renovated',\n",
       "       'lat', 'long', 'sqft_living15', 'sqft_lot15', 'basement_present',\n",
       "       'renovated', 'floors#1.0', 'floors#1.5', 'floors#2.0', 'floors#2.5',\n",
       "       'floors#3.0', 'floors#3.5', 'view#0', 'view#1', 'view#2', 'view#3',\n",
       "       'view#4', 'condition#1', 'condition#2', 'condition#3', 'condition#4',\n",
       "       'condition#5', 'grade#1', 'grade#3', 'grade#4', 'grade#5', 'grade#6',\n",
       "       'grade#7', 'grade#8', 'grade#9', 'grade#10', 'grade#11', 'grade#12',\n",
       "       'grade#13', 'zipcode#98004', 'zipcode#98102', 'zipcode#98109',\n",
       "       'zipcode#98112', 'zipcode#98039', 'zipcode#98040', 'price_cat',\n",
       "       'price_cat_log'],\n",
       "      dtype='object')"
      ]
     },
     "execution_count": 120,
     "metadata": {},
     "output_type": "execute_result"
    }
   ],
   "source": [
    "features.columns"
   ]
  },
  {
   "cell_type": "code",
   "execution_count": 121,
   "metadata": {},
   "outputs": [],
   "source": [
    "price_cat_log=features['price_cat_log']\n",
    "y_log=price_cat_log"
   ]
  },
  {
   "cell_type": "code",
   "execution_count": 122,
   "metadata": {},
   "outputs": [],
   "source": [
    "X_train_log,X_test_log,y_train_log,y_test_log=train_test_split(features[['bedrooms', 'sqft_living', 'waterfront', 'sqft_basement', 'yr_built', 'bathrooms']]\n",
    "                                                               ,y_log,test_size=0.3,random_state=0)"
   ]
  },
  {
   "cell_type": "code",
   "execution_count": 123,
   "metadata": {},
   "outputs": [
    {
     "name": "stdout",
     "output_type": "stream",
     "text": [
      "Training set score: 0.732\n",
      "Test set score: 0.731\n"
     ]
    }
   ],
   "source": [
    "logreg=LogisticRegression().fit(X_train_log,y_train_log)\n",
    "logreg\n",
    "print(\"Training set score: {:.3f}\".format(logreg.score(X_train_log,y_train_log)))\n",
    "print(\"Test set score: {:.3f}\".format(logreg.score(X_test_log,y_test_log)))"
   ]
  },
  {
   "cell_type": "code",
   "execution_count": 169,
   "metadata": {},
   "outputs": [
    {
     "name": "stdout",
     "output_type": "stream",
     "text": [
      "Optimization terminated successfully.\n",
      "         Current function value: 0.522835\n",
      "         Iterations 7\n",
      "                         Results: Logit\n",
      "=================================================================\n",
      "Model:              Logit            No. Iterations:   7.0000    \n",
      "Dependent Variable: price_cat_log    Pseudo R-squared: 0.246     \n",
      "Date:               2019-01-30 21:48 AIC:              15831.9276\n",
      "No. Observations:   15129            BIC:              15877.6738\n",
      "Df Model:           5                Log-Likelihood:   -7910.0   \n",
      "Df Residuals:       15123            LL-Null:          -10486.   \n",
      "Converged:          1.0000           Scale:            1.0000    \n",
      "-----------------------------------------------------------------\n",
      "                  Coef.  Std.Err.    z     P>|z|   [0.025  0.975]\n",
      "-----------------------------------------------------------------\n",
      "bedrooms         -0.3118   0.0285 -10.9592 0.0000 -0.3676 -0.2561\n",
      "sqft_living       0.0019   0.0000  38.8693 0.0000  0.0018  0.0020\n",
      "waterfront        1.9170   0.4188   4.5777 0.0000  1.0962  2.7378\n",
      "sqft_basement     0.0002   0.0001   3.9257 0.0001  0.0001  0.0003\n",
      "yr_built         -0.0016   0.0000 -36.0709 0.0000 -0.0017 -0.0015\n",
      "bathrooms         0.1852   0.0403   4.5943 0.0000  0.1062  0.2641\n",
      "=================================================================\n",
      "\n"
     ]
    }
   ],
   "source": [
    "logit_model=sm.Logit(y_train_log,X_train_log)\n",
    "result=logit_model.fit()\n",
    "print(result.summary2())"
   ]
  },
  {
   "cell_type": "markdown",
   "metadata": {},
   "source": [
    "#### Looking at the z scores, we know that, sqft_living is the most significant followed by yr_built and then the rest"
   ]
  },
  {
   "cell_type": "code",
   "execution_count": 126,
   "metadata": {},
   "outputs": [
    {
     "data": {
      "image/png": "[encoded data removed]",
      "text/plain": [
       "<Figure size 432x288 with 1 Axes>"
      ]
     },
     "metadata": {
      "needs_background": "light"
     },
     "output_type": "display_data"
    }
   ],
   "source": [
    "from sklearn.metrics import roc_curve\n",
    "falsepos,truepos,thresholds=roc_curve(y_test_log,logreg.decision_function(X_test_log))\n",
    "\n",
    "plt.plot(falsepos,truepos,label=\"ROC\")\n",
    "plt.xlabel(\"False Positive Rate\")\n",
    "plt.ylabel(\"True Positive Rate\")\n",
    "\n",
    "cutoff=np.argmin(np.abs(thresholds))\n",
    "plt.plot(falsepos[cutoff],truepos[cutoff],'o',markersize=10,label=\"cutoff\",fillstyle=\"none\")\n",
    "plt.show()"
   ]
  },
  {
   "cell_type": "code",
   "execution_count": 127,
   "metadata": {},
   "outputs": [
    {
     "data": {
      "text/plain": [
       "0.8078695178147917"
      ]
     },
     "execution_count": 127,
     "metadata": {},
     "output_type": "execute_result"
    }
   ],
   "source": [
    "from sklearn import metrics\n",
    "metrics.auc(falsepos, truepos)"
   ]
  },
  {
   "cell_type": "markdown",
   "metadata": {},
   "source": [
    "### As compared to Models in Part A, the accuracy of the Logistic Regression model is less.\n",
    "\n",
    "#### Regression with Trees\n",
    "After comparing one bagging based algorith(Random Forest Classifier) with a Boosting Based Algorithm(XGBoost Classifier)\n",
    "* Hyper Parameters that are important are booster,silent and nthread for XGBoost Regressor\n",
    "* Hyper Parameters that work best are booster=gbtree,silent=None and nthread=True forXGBoost Regressor which gives the best results\n",
    "* The best supervised learner is XGBoost Regressor on test data model\n",
    "\n",
    "#### Random Forest based Regression\n",
    "To look at the available hyperparameters, we can create a random forest and examine the default values."
   ]
  },
  {
   "cell_type": "code",
   "execution_count": 128,
   "metadata": {},
   "outputs": [
    {
     "name": "stdout",
     "output_type": "stream",
     "text": [
      "Parameters currently in use:\n",
      "\n",
      "{'bootstrap': True,\n",
      " 'criterion': 'mse',\n",
      " 'max_depth': None,\n",
      " 'max_features': 'auto',\n",
      " 'max_leaf_nodes': None,\n",
      " 'min_impurity_decrease': 0.0,\n",
      " 'min_impurity_split': None,\n",
      " 'min_samples_leaf': 1,\n",
      " 'min_samples_split': 2,\n",
      " 'min_weight_fraction_leaf': 0.0,\n",
      " 'n_estimators': 10,\n",
      " 'n_jobs': 1,\n",
      " 'oob_score': False,\n",
      " 'random_state': 42,\n",
      " 'verbose': 0,\n",
      " 'warm_start': False}\n"
     ]
    }
   ],
   "source": [
    "from sklearn.ensemble import RandomForestRegressor\n",
    "rf = RandomForestRegressor(random_state = 42)\n",
    "from pprint import pprint\n",
    "# Look at parameters used by our current forest\n",
    "print('Parameters currently in use:\\n')\n",
    "pprint(rf.get_params())"
   ]
  },
  {
   "cell_type": "markdown",
   "metadata": {},
   "source": [
    "estimators = number of trees in the foreset\n",
    "max_features = max number of features considered for splitting a node\n",
    "max_depth = max number of levels in each decision tree\n",
    "min_samples_split = min number of data points placed in a node before the node is split\n",
    "min_samples_leaf = min number of data points allowed in a leaf node\n",
    "bootstrap = method for sampling data points (with or without replacement)"
   ]
  },
  {
   "cell_type": "code",
   "execution_count": 129,
   "metadata": {},
   "outputs": [],
   "source": [
    "\n",
    "X_features_reg = ['bedrooms', 'bathrooms', 'sqft_living', 'sqft_lot',\n",
    "       'waterfront', 'sqft_above', 'sqft_basement', 'yr_built', 'yr_renovated',\n",
    "       'lat', 'long', 'sqft_living15', 'sqft_lot15', 'basement_present',\n",
    "       'renovated', 'floors#1.0', 'floors#1.5', 'floors#2.0', 'floors#2.5',\n",
    "       'floors#3.0', 'floors#3.5', 'view#0', 'view#1', 'view#2', 'view#3',\n",
    "       'view#4', 'condition#1', 'condition#2', 'condition#3', 'condition#4',\n",
    "       'condition#5', 'grade#1', 'grade#3', 'grade#4', 'grade#5', 'grade#6',\n",
    "       'grade#7', 'grade#8', 'grade#9', 'grade#10', 'grade#11', 'grade#12',\n",
    "       'grade#13', 'zipcode#98004', 'zipcode#98102', 'zipcode#98109',\n",
    "       'zipcode#98112', 'zipcode#98039', 'zipcode#98040']\n",
    "\n",
    "X_reg=features[['bedrooms', 'bathrooms', 'sqft_living', 'sqft_lot',\n",
    "       'waterfront', 'sqft_above', 'sqft_basement', 'yr_built', 'yr_renovated',\n",
    "       'lat', 'long', 'sqft_living15', 'sqft_lot15', 'basement_present',\n",
    "       'renovated', 'floors#1.0', 'floors#1.5', 'floors#2.0', 'floors#2.5',\n",
    "       'floors#3.0', 'floors#3.5', 'view#0', 'view#1', 'view#2', 'view#3',\n",
    "       'view#4', 'condition#1', 'condition#2', 'condition#3', 'condition#4',\n",
    "       'condition#5', 'grade#1', 'grade#3', 'grade#4', 'grade#5', 'grade#6',\n",
    "       'grade#7', 'grade#8', 'grade#9', 'grade#10', 'grade#11', 'grade#12',\n",
    "       'grade#13', 'zipcode#98004', 'zipcode#98102', 'zipcode#98109',\n",
    "       'zipcode#98112', 'zipcode#98039', 'zipcode#98040']]  # Features\n",
    "\n",
    "y_reg=features['price']  # Labels\n",
    "       \n",
    "# Split dataset into training set and test set\n",
    "X_train_reg, X_test_reg, y_train_reg, y_test_reg = train_test_split(X_reg, y_reg, test_size=0.3) # 70% training and 30% test"
   ]
  },
  {
   "cell_type": "markdown",
   "metadata": {},
   "source": [
    "#### Random Search Cross Validation in Scikit-Learn\n",
    "To use RandomizedSearchCV, we first need to create a parameter grid to sample from during fitting:"
   ]
  },
  {
   "cell_type": "code",
   "execution_count": 130,
   "metadata": {},
   "outputs": [
    {
     "name": "stdout",
     "output_type": "stream",
     "text": [
      "{'max_depth': [2, 4, 6, 8, 10, None],\n",
      " 'max_features': ['auto', 'sqrt'],\n",
      " 'min_samples_leaf': [2, 4],\n",
      " 'min_samples_split': [5, 10],\n",
      " 'n_estimators': [10, 57, 105, 152, 200]}\n"
     ]
    }
   ],
   "source": [
    "\n",
    "from sklearn.model_selection import RandomizedSearchCV\n",
    "# Number of trees in random forest\n",
    "n_estimators = [int(x) for x in np.linspace(start = 10, stop = 200, num = 5)]\n",
    "# Number of features to consider at every split\n",
    "max_features = ['auto', 'sqrt']\n",
    "# Maximum number of levels in tree\n",
    "max_depth = [int(x) for x in np.linspace(2, 10, num = 5)]\n",
    "max_depth.append(None)\n",
    "# Minimum number of samples required to split a node\n",
    "min_samples_split = [5, 10]\n",
    "# Minimum number of samples required at each leaf node\n",
    "min_samples_leaf = [2, 4]\n",
    "# Method of selecting samples for training each tree\n",
    "#bootstrap = [True, False]\n",
    "# Create the random grid\n",
    "random_grid = {'n_estimators': n_estimators,\n",
    "               'max_features': max_features,\n",
    "               'max_depth': max_depth,\n",
    "               'min_samples_split': min_samples_split,\n",
    "               'min_samples_leaf': min_samples_leaf}\n",
    "pprint(random_grid)"
   ]
  },
  {
   "cell_type": "code",
   "execution_count": 131,
   "metadata": {},
   "outputs": [
    {
     "name": "stdout",
     "output_type": "stream",
     "text": [
      "Fitting 3 folds for each of 100 candidates, totalling 300 fits\n"
     ]
    },
    {
     "name": "stderr",
     "output_type": "stream",
     "text": [
      "[Parallel(n_jobs=-1)]: Done  25 tasks      | elapsed:   26.2s\n",
      "[Parallel(n_jobs=-1)]: Done 146 tasks      | elapsed:  1.3min\n",
      "[Parallel(n_jobs=-1)]: Done 300 out of 300 | elapsed:  4.3min finished\n"
     ]
    },
    {
     "data": {
      "text/plain": [
       "RandomizedSearchCV(cv=3, error_score='raise',\n",
       "          estimator=RandomForestRegressor(bootstrap=True, criterion='mse', max_depth=None,\n",
       "           max_features='auto', max_leaf_nodes=None,\n",
       "           min_impurity_decrease=0.0, min_impurity_split=None,\n",
       "           min_samples_leaf=1, min_samples_split=2,\n",
       "           min_weight_fraction_leaf=0.0, n_estimators=10, n_jobs=1,\n",
       "           oob_score=False, random_state=None, verbose=0, warm_start=False),\n",
       "          fit_params=None, iid=True, n_iter=100, n_jobs=-1,\n",
       "          param_distributions={'n_estimators': [10, 57, 105, 152, 200], 'max_features': ['auto', 'sqrt'], 'max_depth': [2, 4, 6, 8, 10, None], 'min_samples_split': [5, 10], 'min_samples_leaf': [2, 4]},\n",
       "          pre_dispatch='2*n_jobs', random_state=42, refit=True,\n",
       "          return_train_score='warn', scoring=None, verbose=2)"
      ]
     },
     "execution_count": 131,
     "metadata": {},
     "output_type": "execute_result"
    }
   ],
   "source": [
    "\n",
    "# Use the random grid to search for best hyperparameters\n",
    "# First create the base model to tune\n",
    "rf = RandomForestRegressor()\n",
    "# Random search of parameters, using 3 fold cross validation, \n",
    "# search across 100 different combinations, and use all available cores\n",
    "rf_random = RandomizedSearchCV(estimator = rf, param_distributions = random_grid, n_iter = 100, cv = 3, verbose=2, random_state=42, n_jobs = -1)\n",
    "# Fit the random search model\n",
    "rf_random.fit(X_train_reg, y_train_reg)"
   ]
  },
  {
   "cell_type": "code",
   "execution_count": 132,
   "metadata": {},
   "outputs": [
    {
     "name": "stdout",
     "output_type": "stream",
     "text": [
      "Model Performance\n",
      "Average Error: 75496.1815 degrees.\n",
      "Accuracy = 85.98%.\n"
     ]
    }
   ],
   "source": [
    "\n",
    "def evaluate_reg(model, test_features, test_labels):\n",
    "    predictions = model.predict(test_features)\n",
    "    errors = abs(predictions - test_labels)\n",
    "    mape = 100 * np.mean(errors / test_labels)\n",
    "    accuracy = 100 - mape\n",
    "    print('Model Performance')\n",
    "    print('Average Error: {:0.4f} degrees.'.format(np.mean(errors)))\n",
    "    print('Accuracy = {:0.2f}%.'.format(accuracy))\n",
    "    \n",
    "    return accuracy\n",
    "base_model = RandomForestRegressor(n_estimators = 10, random_state = 42)\n",
    "base_model.fit(X_train_reg, y_train_reg)\n",
    "base_accuracy = evaluate_reg(base_model, X_test_reg, y_test_reg)"
   ]
  },
  {
   "cell_type": "code",
   "execution_count": 133,
   "metadata": {},
   "outputs": [
    {
     "data": {
      "text/plain": [
       "RandomForestRegressor(bootstrap=True, criterion='mse', max_depth=None,\n",
       "           max_features='auto', max_leaf_nodes=None,\n",
       "           min_impurity_decrease=0.0, min_impurity_split=None,\n",
       "           min_samples_leaf=2, min_samples_split=10,\n",
       "           min_weight_fraction_leaf=0.0, n_estimators=200, n_jobs=1,\n",
       "           oob_score=False, random_state=None, verbose=0, warm_start=False)"
      ]
     },
     "execution_count": 133,
     "metadata": {},
     "output_type": "execute_result"
    }
   ],
   "source": [
    "rf_random.best_estimator_"
   ]
  },
  {
   "cell_type": "code",
   "execution_count": 134,
   "metadata": {},
   "outputs": [
    {
     "name": "stdout",
     "output_type": "stream",
     "text": [
      "Model Performance\n",
      "Average Error: 71080.4182 degrees.\n",
      "Accuracy = 86.80%.\n"
     ]
    }
   ],
   "source": [
    "best_random = rf_random.best_estimator_\n",
    "random_accuracy = evaluate_reg(best_random, X_test_reg, y_test_reg)"
   ]
  },
  {
   "cell_type": "markdown",
   "metadata": {},
   "source": [
    "### Grid Search with Cross Validation"
   ]
  },
  {
   "cell_type": "code",
   "execution_count": 135,
   "metadata": {},
   "outputs": [],
   "source": [
    "from sklearn.model_selection import GridSearchCV\n",
    "# Create the parameter grid based on the results of random search \n",
    "param_grid = {\n",
    "    'bootstrap': [True, False],\n",
    "    'max_depth': [None],\n",
    "    'max_features': [2, 3],\n",
    "    'min_samples_leaf': [2,3,4],\n",
    "    'min_samples_split': [3,5,7],\n",
    "    'n_estimators': [100, 200, 300, 1000]\n",
    "}\n",
    "# Create a based model\n",
    "rf = RandomForestRegressor()\n",
    "\n",
    "# Instantiate the grid search model\n",
    "grid_search = GridSearchCV(estimator = rf, param_grid = param_grid, \n",
    "                          cv = 3, n_jobs = -1, verbose = 2)"
   ]
  },
  {
   "cell_type": "code",
   "execution_count": null,
   "metadata": {},
   "outputs": [],
   "source": []
  },
  {
   "cell_type": "code",
   "execution_count": 140,
   "metadata": {},
   "outputs": [
    {
     "name": "stdout",
     "output_type": "stream",
     "text": [
      "Fitting 3 folds for each of 144 candidates, totalling 432 fits\n"
     ]
    },
    {
     "name": "stderr",
     "output_type": "stream",
     "text": [
      "[Parallel(n_jobs=-1)]: Done  25 tasks      | elapsed:   27.6s\n",
      "[Parallel(n_jobs=-1)]: Done 146 tasks      | elapsed:  2.5min\n",
      "[Parallel(n_jobs=-1)]: Done 349 tasks      | elapsed:  7.0min\n",
      "[Parallel(n_jobs=-1)]: Done 432 out of 432 | elapsed:  9.6min finished\n"
     ]
    },
    {
     "data": {
      "text/plain": [
       "{'bootstrap': False,\n",
       " 'max_depth': None,\n",
       " 'max_features': 3,\n",
       " 'min_samples_leaf': 2,\n",
       " 'min_samples_split': 3,\n",
       " 'n_estimators': 1000}"
      ]
     },
     "execution_count": 140,
     "metadata": {},
     "output_type": "execute_result"
    }
   ],
   "source": [
    "# Fit the grid search to the data\n",
    "grid_search.fit(X_train_reg, y_train_reg)\n",
    "grid_search.best_params_"
   ]
  },
  {
   "cell_type": "code",
   "execution_count": 141,
   "metadata": {},
   "outputs": [
    {
     "data": {
      "text/plain": [
       "{'bootstrap': False,\n",
       " 'max_depth': None,\n",
       " 'max_features': 3,\n",
       " 'min_samples_leaf': 2,\n",
       " 'min_samples_split': 3,\n",
       " 'n_estimators': 1000}"
      ]
     },
     "execution_count": 141,
     "metadata": {},
     "output_type": "execute_result"
    }
   ],
   "source": [
    "\n",
    "grid_search.best_params_"
   ]
  },
  {
   "cell_type": "code",
   "execution_count": 142,
   "metadata": {},
   "outputs": [
    {
     "name": "stdout",
     "output_type": "stream",
     "text": [
      "Model Performance\n",
      "Average Error: 89789.9472 degrees.\n",
      "Accuracy = 82.40%.\n"
     ]
    }
   ],
   "source": [
    "\n",
    "best_grid = grid_search.best_estimator_\n",
    "grid_accuracy = evaluate_reg(best_grid, X_test_reg, y_test_reg)"
   ]
  },
  {
   "cell_type": "markdown",
   "metadata": {},
   "source": [
    "### Now lets implement XGBoost (eXtreme Gradient Boosting)"
   ]
  },
  {
   "cell_type": "code",
   "execution_count": 143,
   "metadata": {},
   "outputs": [],
   "source": [
    "from xgboost import XGBRegressor"
   ]
  },
  {
   "cell_type": "code",
   "execution_count": 144,
   "metadata": {},
   "outputs": [
    {
     "name": "stdout",
     "output_type": "stream",
     "text": [
      "Model Performance\n",
      "Average Error: 81315.4804 degrees.\n",
      "Accuracy = 84.59%.\n"
     ]
    }
   ],
   "source": [
    "\n",
    "base_model = XGBRegressor()\n",
    "base_model.fit(X_train_reg, y_train_reg)\n",
    "base_accuracy = evaluate_reg(base_model, X_test_reg, y_test_reg)"
   ]
  },
  {
   "cell_type": "code",
   "execution_count": 145,
   "metadata": {},
   "outputs": [
    {
     "data": {
      "text/plain": [
       "XGBRegressor(base_score=0.5, booster='gbtree', colsample_bylevel=1,\n",
       "       colsample_bytree=1, gamma=0, learning_rate=0.1, max_delta_step=0,\n",
       "       max_depth=3, min_child_weight=1, missing=None, n_estimators=100,\n",
       "       n_jobs=1, nthread=None, objective='reg:linear', random_state=0,\n",
       "       reg_alpha=0, reg_lambda=1, scale_pos_weight=1, seed=None,\n",
       "       silent=True, subsample=1)"
      ]
     },
     "execution_count": 145,
     "metadata": {},
     "output_type": "execute_result"
    }
   ],
   "source": [
    "base_model"
   ]
  },
  {
   "cell_type": "code",
   "execution_count": 146,
   "metadata": {},
   "outputs": [
    {
     "name": "stdout",
     "output_type": "stream",
     "text": [
      "Best: 0.709095 using {'n_estimators': 350}\n",
      "0.676749 (0.011633) with: {'n_estimators': 50}\n",
      "0.689946 (0.012663) with: {'n_estimators': 100}\n",
      "0.697700 (0.012741) with: {'n_estimators': 150}\n",
      "0.702791 (0.012526) with: {'n_estimators': 200}\n",
      "0.705961 (0.012560) with: {'n_estimators': 250}\n",
      "0.707730 (0.012324) with: {'n_estimators': 300}\n",
      "0.709095 (0.012350) with: {'n_estimators': 350}\n"
     ]
    }
   ],
   "source": [
    "model = XGBRegressor()\n",
    "n_estimators = range(50, 400, 50)\n",
    "param_grid = dict(n_estimators=n_estimators)\n",
    "kfold = StratifiedKFold(n_splits=10, shuffle=True, random_state=7)\n",
    "grid_search = GridSearchCV(model, param_grid, n_jobs=-1, cv=kfold)\n",
    "grid_result = grid_search.fit(X_train, y_train)\n",
    "# summarize results\n",
    "print(\"Best: %f using %s\" % (grid_result.best_score_, grid_result.best_params_))\n",
    "means = grid_result.cv_results_['mean_test_score']\n",
    "stds = grid_result.cv_results_['std_test_score']\n",
    "params = grid_result.cv_results_['params']\n",
    "for mean, stdev, param in zip(means, stds, params):\n",
    "\tprint(\"%f (%f) with: %r\" % (mean, stdev, param))"
   ]
  },
  {
   "cell_type": "code",
   "execution_count": 147,
   "metadata": {},
   "outputs": [
    {
     "name": "stdout",
     "output_type": "stream",
     "text": [
      "range(1, 11, 2)\n",
      "Fitting 10 folds for each of 5 candidates, totalling 50 fits\n"
     ]
    },
    {
     "name": "stderr",
     "output_type": "stream",
     "text": [
      "C:\\Users\\Spurthy\\Anaconda3\\lib\\site-packages\\sklearn\\model_selection\\_split.py:605: Warning: The least populated class in y has only 1 members, which is too few. The minimum number of members in any class cannot be less than n_splits=10.\n",
      "  % (min_groups, self.n_splits)), Warning)\n",
      "[Parallel(n_jobs=-1)]: Done  34 tasks      | elapsed:   40.9s\n",
      "[Parallel(n_jobs=-1)]: Done  50 out of  50 | elapsed:  1.1min finished\n"
     ]
    },
    {
     "name": "stdout",
     "output_type": "stream",
     "text": [
      "Best: 0.834020 using {'max_depth': 5}\n",
      "0.644636 (0.051630) with: {'max_depth': 1}\n",
      "0.802095 (0.036354) with: {'max_depth': 3}\n",
      "0.834020 (0.037760) with: {'max_depth': 5}\n",
      "0.832306 (0.041288) with: {'max_depth': 7}\n",
      "0.830708 (0.041978) with: {'max_depth': 9}\n"
     ]
    }
   ],
   "source": [
    "\n",
    "model = XGBRegressor()\n",
    "max_depth = range(1, 11, 2)\n",
    "print(max_depth)\n",
    "param_grid = dict(max_depth=max_depth)\n",
    "kfold = StratifiedKFold(n_splits=10, shuffle=True, random_state=7)\n",
    "grid_search = GridSearchCV(model, param_grid, n_jobs=-1, cv=kfold, verbose=1)\n",
    "grid_result = grid_search.fit(X_train_reg, y_train_reg)\n",
    "# summarize results\n",
    "print(\"Best: %f using %s\" % (grid_result.best_score_, grid_result.best_params_))\n",
    "means = grid_result.cv_results_['mean_test_score']\n",
    "stds = grid_result.cv_results_['std_test_score']\n",
    "params = grid_result.cv_results_['params']\n",
    "for mean, stdev, param in zip(means, stds, params):\n",
    "\tprint(\"%f (%f) with: %r\" % (mean, stdev, param))"
   ]
  },
  {
   "cell_type": "code",
   "execution_count": 148,
   "metadata": {},
   "outputs": [
    {
     "data": {
      "text/plain": [
       "XGBRegressor(base_score=0.5, booster='gbtree', colsample_bylevel=1,\n",
       "       colsample_bytree=1, gamma=0, learning_rate=0.1, max_delta_step=0,\n",
       "       max_depth=5, min_child_weight=1, missing=None, n_estimators=100,\n",
       "       n_jobs=1, nthread=None, objective='reg:linear', random_state=0,\n",
       "       reg_alpha=0, reg_lambda=1, scale_pos_weight=1, seed=None,\n",
       "       silent=True, subsample=1)"
      ]
     },
     "execution_count": 148,
     "metadata": {},
     "output_type": "execute_result"
    }
   ],
   "source": [
    "\n",
    "best_XGBoost = grid_result.best_estimator_\n",
    "best_XGBoost"
   ]
  },
  {
   "cell_type": "code",
   "execution_count": 149,
   "metadata": {},
   "outputs": [
    {
     "name": "stdout",
     "output_type": "stream",
     "text": [
      "Model Performance\n",
      "Average Error: 72024.5129 degrees.\n",
      "Accuracy = 86.35%.\n"
     ]
    }
   ],
   "source": [
    "best_XGBoost.fit(X_train_reg, y_train_reg)\n",
    "best_accuracy = evaluate_reg(best_XGBoost, X_test_reg, y_test_reg)"
   ]
  },
  {
   "cell_type": "code",
   "execution_count": 204,
   "metadata": {},
   "outputs": [
    {
     "name": "stdout",
     "output_type": "stream",
     "text": [
      "ROC for base model : 0.9697788079061784\n"
     ]
    }
   ],
   "source": [
    "print('ROC for base model : ' + str(evaluate(best_XGBoost,X_train,y_train, X_test, y_test)))\n"
   ]
  },
  {
   "cell_type": "code",
   "execution_count": null,
   "metadata": {},
   "outputs": [],
   "source": []
  },
  {
   "cell_type": "markdown",
   "metadata": {},
   "source": [
    "\n",
    "### XGBoost Algo provides better predictions than Random Forest for the regression problem. And both of them provide a lower RMSE than Linear Regression\n",
    "\n",
    "##### Evaluating the regression models"
   ]
  },
  {
   "cell_type": "code",
   "execution_count": 150,
   "metadata": {},
   "outputs": [],
   "source": [
    "\n",
    "from sklearn.metrics import mean_squared_error\n",
    "from math import sqrt"
   ]
  },
  {
   "cell_type": "code",
   "execution_count": 151,
   "metadata": {},
   "outputs": [
    {
     "name": "stdout",
     "output_type": "stream",
     "text": [
      "Random forest best model RMSE is : 134529.03\n"
     ]
    }
   ],
   "source": [
    "#Random Forest best model\n",
    "print('Random forest best model RMSE is : ' + str(round(sqrt(mean_squared_error(best_random.predict(X_test_reg), y_test_reg)),2)))"
   ]
  },
  {
   "cell_type": "code",
   "execution_count": 152,
   "metadata": {},
   "outputs": [
    {
     "name": "stdout",
     "output_type": "stream",
     "text": [
      "XGBoost best model RMSE is : 131066.79\n"
     ]
    }
   ],
   "source": [
    "#XGBoost Best model\n",
    "print('XGBoost best model RMSE is : ' + str(round(sqrt(mean_squared_error(best_XGBoost.predict(X_test_reg), y_test_reg)),2)))"
   ]
  },
  {
   "cell_type": "code",
   "execution_count": 153,
   "metadata": {},
   "outputs": [
    {
     "name": "stdout",
     "output_type": "stream",
     "text": [
      "Linear regression best model from Assignment 3: 205986.42\n"
     ]
    }
   ],
   "source": [
    "#Linear regression - multiple linear regression model from previous assignment\n",
    "print('Linear regression best model from Assignment 3: ' + str(205986.42))"
   ]
  },
  {
   "cell_type": "markdown",
   "metadata": {},
   "source": [
    "### PART D\n",
    "   #### Linear Regerssion\n",
    "  Linear regression is a linear approach to modelling the relationship between a scalar response and one or more explanatory variables. The case of one explanatory variable is called simple linear regression. "
   ]
  },
  {
   "cell_type": "code",
   "execution_count": 170,
   "metadata": {},
   "outputs": [
    {
     "name": "stdout",
     "output_type": "stream",
     "text": [
      "R2 score: 0.2605129247108454\n"
     ]
    }
   ],
   "source": [
    "from sklearn.linear_model import LinearRegression\n",
    "\n",
    "linear_reg = LinearRegression()\n",
    "linear_reg.fit(X_train[\"sqft_living\"].values.reshape(-1,1),y_train)\n",
    "from sklearn.metrics import r2_score\n",
    "y_head = linear_reg.predict(X_test[\"sqft_living\"].values.reshape(-1,1))\n",
    "print(\"R2 score:\", r2_score(y_test, y_head))"
   ]
  },
  {
   "cell_type": "code",
   "execution_count": 171,
   "metadata": {},
   "outputs": [
    {
     "data": {
      "image/png": "[encoded data removed]",
      "text/plain": [
       "<Figure size 720x576 with 1 Axes>"
      ]
     },
     "metadata": {
      "needs_background": "light"
     },
     "output_type": "display_data"
    }
   ],
   "source": [
    "plt.figure(figsize=(10,8))\n",
    "plt.scatter(X_train_reg[\"sqft_living\"],y_train_reg, color=\"Blue\", alpha = 0.2, label= \"Train data\")\n",
    "plt.legend()\n",
    "plt.xlabel(\"price_cat\")\n",
    "plt.ylabel(\"price\")\n",
    "plt.show()"
   ]
  },
  {
   "cell_type": "code",
   "execution_count": 173,
   "metadata": {},
   "outputs": [
    {
     "name": "stdout",
     "output_type": "stream",
     "text": [
      "ROC for base model : 0.9276400466412903\n"
     ]
    }
   ],
   "source": [
    "print('ROC for base model : ' + str(evaluate(linear_reg,X_train,y_train, X_test, y_test)))\n"
   ]
  },
  {
   "cell_type": "markdown",
   "metadata": {},
   "source": [
    "#### Lasso\n",
    "Lasso is another extension built on regularized linear regression, but with a small twist. It uses L1 regularization technique It is generally used when we have more number of features, because it automatically does feature selection.\n",
    "The main problem with lasso regression is when we have correlated variables, it retains only one variable and sets other correlated variables to zero. That will possibly lead to some loss of information resulting in lower accuracy in our model."
   ]
  },
  {
   "cell_type": "code",
   "execution_count": 176,
   "metadata": {},
   "outputs": [],
   "source": [
    "# Let us import required libraries for implementing lasso\n",
    "from sklearn.linear_model import LassoCV"
   ]
  },
  {
   "cell_type": "code",
   "execution_count": 177,
   "metadata": {},
   "outputs": [],
   "source": [
    "# Let set the alphas: Logspace: Returns numbers spaced evenly on a log scale.\n",
    "\n",
    "\n",
    "alphas = np.logspace(-4, -0.5, 30)\n"
   ]
  },
  {
   "cell_type": "code",
   "execution_count": 178,
   "metadata": {},
   "outputs": [],
   "source": [
    "# Now we create the model with the above alpha range and lets put crossvalidation as 10 which is not too long or short.\n",
    "lasso_cv = LassoCV(alphas=alphas, cv=10, random_state=0)\n"
   ]
  },
  {
   "cell_type": "code",
   "execution_count": 180,
   "metadata": {},
   "outputs": [
    {
     "name": "stderr",
     "output_type": "stream",
     "text": [
      "C:\\Users\\Spurthy\\Anaconda3\\lib\\site-packages\\sklearn\\linear_model\\coordinate_descent.py:491: ConvergenceWarning: Objective did not converge. You might want to increase the number of iterations. Fitting data with very small alpha may cause precision problems.\n",
      "  ConvergenceWarning)\n",
      "C:\\Users\\Spurthy\\Anaconda3\\lib\\site-packages\\sklearn\\linear_model\\coordinate_descent.py:491: ConvergenceWarning: Objective did not converge. You might want to increase the number of iterations. Fitting data with very small alpha may cause precision problems.\n",
      "  ConvergenceWarning)\n"
     ]
    },
    {
     "data": {
      "text/plain": [
       "LassoCV(alphas=array([1.00000e-04, 1.32035e-04, 1.74333e-04, 2.30181e-04, 3.03920e-04,\n",
       "       4.01281e-04, 5.29832e-04, 6.99564e-04, 9.23671e-04, 1.21957e-03,\n",
       "       1.61026e-03, 2.12611e-03, 2.80722e-03, 3.70651e-03, 4.89390e-03,\n",
       "       6.46167e-03, 8.53168e-03, 1.12648e-02, 1.48735e-02, 1.96383e-02,\n",
       "       2.59294e-02, 3.42360e-02, 4.52035e-02, 5.96846e-02, 7.88046e-02,\n",
       "       1.04050e-01, 1.37382e-01, 1.81393e-01, 2.39503e-01, 3.16228e-01]),\n",
       "    copy_X=True, cv=10, eps=0.001, fit_intercept=True, max_iter=1000,\n",
       "    n_alphas=100, n_jobs=1, normalize=False, positive=False,\n",
       "    precompute='auto', random_state=0, selection='cyclic', tol=0.0001,\n",
       "    verbose=False)"
      ]
     },
     "execution_count": 180,
     "metadata": {},
     "output_type": "execute_result"
    }
   ],
   "source": [
    "# Lets fit the model with our training dataset.\n",
    "lasso_cv.fit(X_train,y_train)"
   ]
  },
  {
   "cell_type": "code",
   "execution_count": 181,
   "metadata": {},
   "outputs": [
    {
     "data": {
      "text/plain": [
       "0.00017433288221999874"
      ]
     },
     "execution_count": 181,
     "metadata": {},
     "output_type": "execute_result"
    }
   ],
   "source": [
    "# Let us see what alpha value it has selected \n",
    "lasso_cv.alpha_"
   ]
  },
  {
   "cell_type": "code",
   "execution_count": 205,
   "metadata": {},
   "outputs": [
    {
     "name": "stdout",
     "output_type": "stream",
     "text": [
      "ROC for base model : 0.9274044989887155\n"
     ]
    }
   ],
   "source": [
    "print('ROC for base model : ' + str(evaluate(lasso_cv,X_train,y_train, X_test, y_test)))\n"
   ]
  },
  {
   "cell_type": "markdown",
   "metadata": {},
   "source": [
    "### PART E-\n",
    "\n",
    "### k-Nearest Neighbors(kNN)\n",
    "\n",
    "A simple supervised learning algorithm is k-Nearest Neighbors algorithm (k-NN). KNN is a non-parametric method used for classification and regression.\n",
    "A simple solution to finding nearest neighbors is to compute the distance from the each point in $S$ to every point in $R$ and keeping track of the \"best so far\". This algorithm, sometimes referred to as the naive approach, has a running time of O(|R||S|)."
   ]
  },
  {
   "cell_type": "code",
   "execution_count": 189,
   "metadata": {},
   "outputs": [],
   "source": [
    "from sklearn.grid_search import GridSearchCV\n",
    "from sklearn.neighbors import KNeighborsClassifier \n",
    "\n"
   ]
  },
  {
   "cell_type": "code",
   "execution_count": 190,
   "metadata": {},
   "outputs": [
    {
     "name": "stdout",
     "output_type": "stream",
     "text": [
      "[1, 2, 3, 4, 5, 6, 7, 8, 9, 10, 11, 12, 13, 14, 15, 16, 17, 18, 19, 20, 21, 22, 23, 24, 25, 26, 27, 28, 29, 30]\n"
     ]
    }
   ],
   "source": [
    "# define the parameter values that should be searched\n",
    "# for python 2, k_range = range(1, 31)\n",
    "k_range = list(range(1, 31))\n",
    "print(k_range)"
   ]
  },
  {
   "cell_type": "code",
   "execution_count": 191,
   "metadata": {},
   "outputs": [
    {
     "name": "stdout",
     "output_type": "stream",
     "text": [
      "{'n_neighbors': [1, 2, 3, 4, 5, 6, 7, 8, 9, 10, 11, 12, 13, 14, 15, 16, 17, 18, 19, 20, 21, 22, 23, 24, 25, 26, 27, 28, 29, 30]}\n"
     ]
    }
   ],
   "source": [
    "# create a parameter grid: map the parameter names to the values that should be searched\n",
    "# simply a python dictionary\n",
    "# key: parameter name\n",
    "# value: list of values that should be searched for that parameter\n",
    "# single key-value pair for param_grid\n",
    "param_grid = dict(n_neighbors=k_range)\n",
    "print(param_grid)"
   ]
  },
  {
   "cell_type": "code",
   "execution_count": 192,
   "metadata": {},
   "outputs": [
    {
     "name": "stdout",
     "output_type": "stream",
     "text": [
      "{'n_neighbors': [1, 2, 3, 4, 5, 6, 7, 8, 9, 10, 11, 12, 13, 14, 15, 16, 17, 18, 19, 20, 21, 22, 23, 24, 25, 26, 27, 28, 29, 30]}\n"
     ]
    }
   ],
   "source": [
    "# create a parameter grid: map the parameter names to the values that should be searched\n",
    "# simply a python dictionary\n",
    "# key: parameter name\n",
    "# value: list of values that should be searched for that parameter\n",
    "# single key-value pair for param_grid\n",
    "param_grid = dict(n_neighbors=k_range)\n",
    "print(param_grid)"
   ]
  },
  {
   "cell_type": "code",
   "execution_count": 193,
   "metadata": {},
   "outputs": [],
   "source": [
    "knn = KNeighborsClassifier(n_neighbors=5)\n"
   ]
  },
  {
   "cell_type": "code",
   "execution_count": 194,
   "metadata": {},
   "outputs": [],
   "source": [
    "grid = GridSearchCV(knn, param_grid, cv=10, scoring='accuracy')"
   ]
  },
  {
   "cell_type": "code",
   "execution_count": 195,
   "metadata": {},
   "outputs": [
    {
     "data": {
      "text/plain": [
       "GridSearchCV(cv=10, error_score='raise',\n",
       "       estimator=KNeighborsClassifier(algorithm='auto', leaf_size=30, metric='minkowski',\n",
       "           metric_params=None, n_jobs=1, n_neighbors=5, p=2,\n",
       "           weights='uniform'),\n",
       "       fit_params={}, iid=True, n_jobs=1,\n",
       "       param_grid={'n_neighbors': [1, 2, 3, 4, 5, 6, 7, 8, 9, 10, 11, 12, 13, 14, 15, 16, 17, 18, 19, 20, 21, 22, 23, 24, 25, 26, 27, 28, 29, 30]},\n",
       "       pre_dispatch='2*n_jobs', refit=True, scoring='accuracy', verbose=0)"
      ]
     },
     "execution_count": 195,
     "metadata": {},
     "output_type": "execute_result"
    }
   ],
   "source": [
    "grid.fit(X_train, y_train)"
   ]
  },
  {
   "cell_type": "code",
   "execution_count": 196,
   "metadata": {},
   "outputs": [
    {
     "data": {
      "text/plain": [
       "[mean: 0.69972, std: 0.01006, params: {'n_neighbors': 1},\n",
       " mean: 0.69542, std: 0.00890, params: {'n_neighbors': 2},\n",
       " mean: 0.72285, std: 0.00803, params: {'n_neighbors': 3},\n",
       " mean: 0.72358, std: 0.00802, params: {'n_neighbors': 4},\n",
       " mean: 0.73581, std: 0.01218, params: {'n_neighbors': 5},\n",
       " mean: 0.73376, std: 0.01090, params: {'n_neighbors': 6},\n",
       " mean: 0.74142, std: 0.01169, params: {'n_neighbors': 7},\n",
       " mean: 0.74208, std: 0.01087, params: {'n_neighbors': 8},\n",
       " mean: 0.74499, std: 0.01056, params: {'n_neighbors': 9},\n",
       " mean: 0.74446, std: 0.00979, params: {'n_neighbors': 10},\n",
       " mean: 0.74817, std: 0.00951, params: {'n_neighbors': 11},\n",
       " mean: 0.74770, std: 0.00821, params: {'n_neighbors': 12},\n",
       " mean: 0.74711, std: 0.01124, params: {'n_neighbors': 13},\n",
       " mean: 0.74869, std: 0.00820, params: {'n_neighbors': 14},\n",
       " mean: 0.74962, std: 0.01098, params: {'n_neighbors': 15},\n",
       " mean: 0.74830, std: 0.00900, params: {'n_neighbors': 16},\n",
       " mean: 0.75008, std: 0.00835, params: {'n_neighbors': 17},\n",
       " mean: 0.74988, std: 0.00810, params: {'n_neighbors': 18},\n",
       " mean: 0.75088, std: 0.00990, params: {'n_neighbors': 19},\n",
       " mean: 0.74903, std: 0.00895, params: {'n_neighbors': 20},\n",
       " mean: 0.74949, std: 0.01157, params: {'n_neighbors': 21},\n",
       " mean: 0.74830, std: 0.00888, params: {'n_neighbors': 22},\n",
       " mean: 0.75008, std: 0.01176, params: {'n_neighbors': 23},\n",
       " mean: 0.74764, std: 0.01025, params: {'n_neighbors': 24},\n",
       " mean: 0.75081, std: 0.01046, params: {'n_neighbors': 25},\n",
       " mean: 0.74988, std: 0.01095, params: {'n_neighbors': 26},\n",
       " mean: 0.75114, std: 0.00986, params: {'n_neighbors': 27},\n",
       " mean: 0.74922, std: 0.00892, params: {'n_neighbors': 28},\n",
       " mean: 0.75081, std: 0.01167, params: {'n_neighbors': 29},\n",
       " mean: 0.75081, std: 0.00966, params: {'n_neighbors': 30}]"
      ]
     },
     "execution_count": 196,
     "metadata": {},
     "output_type": "execute_result"
    }
   ],
   "source": [
    "# view the complete results (list of named tuples)\n",
    "grid.grid_scores_\n"
   ]
  },
  {
   "cell_type": "code",
   "execution_count": 197,
   "metadata": {},
   "outputs": [
    {
     "name": "stdout",
     "output_type": "stream",
     "text": [
      "0.7511401943287725\n",
      "{'n_neighbors': 27}\n",
      "KNeighborsClassifier(algorithm='auto', leaf_size=30, metric='minkowski',\n",
      "           metric_params=None, n_jobs=1, n_neighbors=27, p=2,\n",
      "           weights='uniform')\n"
     ]
    }
   ],
   "source": [
    "# examine the best model\n",
    "\n",
    "# Single best score achieved across all params (k)\n",
    "print(grid.best_score_)\n",
    "\n",
    "# Dictionary containing the parameters (k) used to generate that score\n",
    "print(grid.best_params_)\n",
    "\n",
    "# Actual model object fit with those best parameters\n",
    "# Shows default parameters that we did not specify\n",
    "print(grid.best_estimator_)"
   ]
  },
  {
   "cell_type": "code",
   "execution_count": 198,
   "metadata": {},
   "outputs": [],
   "source": [
    "knn_Best = KNeighborsClassifier(algorithm='auto', leaf_size=30, metric='minkowski',\n",
    "           metric_params=None, n_jobs=1, n_neighbors=28, p=2,\n",
    "           weights='uniform')\n"
   ]
  },
  {
   "cell_type": "code",
   "execution_count": 199,
   "metadata": {},
   "outputs": [
    {
     "data": {
      "text/plain": [
       "KNeighborsClassifier(algorithm='auto', leaf_size=30, metric='minkowski',\n",
       "           metric_params=None, n_jobs=1, n_neighbors=28, p=2,\n",
       "           weights='uniform')"
      ]
     },
     "execution_count": 199,
     "metadata": {},
     "output_type": "execute_result"
    }
   ],
   "source": [
    "knn_Best.fit(X_train,y_train)"
   ]
  },
  {
   "cell_type": "code",
   "execution_count": 200,
   "metadata": {},
   "outputs": [],
   "source": [
    "prediction= knn_Best.predict(X_test)"
   ]
  },
  {
   "cell_type": "code",
   "execution_count": 201,
   "metadata": {},
   "outputs": [
    {
     "name": "stdout",
     "output_type": "stream",
     "text": [
      "ROC for base model : 0.7531876497274119\n"
     ]
    }
   ],
   "source": [
    "print('ROC for base model : ' + str(evaluate(knn_Best,X_train,y_train, X_test, y_test)))\n"
   ]
  },
  {
   "cell_type": "markdown",
   "metadata": {},
   "source": [
    "### Conclusion:\n",
    "\n",
    "- kNN is 0.7531876497274119 \n",
    "- Linear regression is 0.9276400466412903\n",
    "-  Lasso regression is  0.9274044989887155\n",
    "- Logistic Regressor model is 0.770983859199\n",
    "- ROC for best Random_RF model is 0.911633141338\n",
    "- ROC for best grid search _ Random Forest model is 0.91176854563\n",
    "- ROC for the XGBoost model is 0.967122105174\n",
    "\n",
    "The closer to 1 a models roc score is, the BETTER it is. However, the best model out of them is XGBoost with an ROC Score of 0.967.\n",
    "So we observe that the boosting algorithm works best for this dataset over bagging algorithms.\n"
   ]
  },
  {
   "cell_type": "markdown",
   "metadata": {},
   "source": [
    "### Citation:\n",
    " -  www.Kaggle.com\n",
    " - Random forest Classifer : https://www.datacamp.com/community/tutorials/random-forests-classifier-python\n",
    " - Random Forest Regression : https://towardsdatascience.com/hyperparameter-tuning-the-random-forest-in-python-using-scikit-  learn-28d2aa77dd74\n",
    " - XGBoost Classifier & XGBoost Regression :\n",
    "https://machinelearningmastery.com/develop-first-xgboost-model-python-scikit-learn/\n",
    "https://machinelearningmastery.com/tune-number-size-decision-trees-xgboost-python/\n",
    " - Logistic Regression : http://www.michaeljgrogan.com/statsmodels-sklearn-linear-regression/\n",
    " - kNN : https://www.ritchieng.com/machine-learning-efficiently-search-tuning-param/\n",
    " - https://www.analyticsvidhya.com/blog/"
   ]
  },
  {
   "cell_type": "markdown",
   "metadata": {},
   "source": [
    "### License: \n",
    "\n",
    "    Copyright <YEAR> <COPYRIGHT HOLDER>\n",
    "\n",
    "Permission is hereby granted, free of charge, to any person obtaining a copy of this software and associated documentation files (the \"Software\"), to deal in the Software without restriction, including without limitation the rights to use, copy, modify, merge, publish, distribute, sublicense, and/or sell copies of the Software, and to permit persons to whom the Software is furnished to do so, subject to the following conditions:\n",
    "\n",
    "The above copyright notice and this permission notice shall be included in all copies or substantial portions of the Software.\n",
    "\n",
    "THE SOFTWARE IS PROVIDED \"AS IS\", WITHOUT WARRANTY OF ANY KIND, EXPRESS OR IMPLIED, INCLUDING BUT NOT LIMITED TO THE WARRANTIES OF MERCHANTABILITY, FITNESS FOR A PARTICULAR PURPOSE AND NONINFRINGEMENT. IN NO EVENT SHALL THE AUTHORS OR COPYRIGHT HOLDERS BE LIABLE FOR ANY CLAIM, DAMAGES OR OTHER LIABILITY, WHETHER IN AN ACTION OF CONTRACT, TORT OR OTHERWISE, ARISING FROM, OUT OF OR IN CONNECTION WITH THE SOFTWARE OR THE USE OR OTHER DEALINGS IN THE SOFTWARE."
   ]
  },
  {
   "cell_type": "code",
   "execution_count": null,
   "metadata": {},
   "outputs": [],
   "source": []
  }
 ],
 "metadata": {
  "kernelspec": {
   "display_name": "Python 3",
   "language": "python",
   "name": "python3"
  },
  "language_info": {
   "codemirror_mode": {
    "name": "ipython",
    "version": 3
   },
   "file_extension": ".py",
   "mimetype": "text/x-python",
   "name": "python",
   "nbconvert_exporter": "python",
   "pygments_lexer": "ipython3",
   "version": "3.6.4"
  }
 },
 "nbformat": 4,
 "nbformat_minor": 2
}
